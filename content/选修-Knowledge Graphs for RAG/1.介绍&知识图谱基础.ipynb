{
 "cells": [
  {
   "cell_type": "markdown",
   "metadata": {},
   "source": [
    "# 1.整体介绍"
   ]
  },
  {
   "cell_type": "markdown",
   "metadata": {},
   "source": [
    "## 1.1 为什么要用图谱?"
   ]
  },
  {
   "cell_type": "markdown",
   "metadata": {},
   "source": [
    "图谱能够更准确的表示数据之间的关系，并且更容易查询相关准确知识，拾取数据之间的关系。\n",
    "相比传统RAG思路，图谱的介入能够在检索到一个chunk后，利用图关系拾取与之相关联的数据，从而能够提供更加全面准确的信息提示。"
   ]
  },
  {
   "cell_type": "markdown",
   "metadata": {
    "vscode": {
     "languageId": "plaintext"
    }
   },
   "source": [
    "## 1.2 知识图谱介绍"
   ]
  },
  {
   "cell_type": "markdown",
   "metadata": {
    "vscode": {
     "languageId": "plaintext"
    }
   },
   "source": [
    "![img]('./images/kg_introduce1.jpg')"
   ]
  },
  {
   "cell_type": "markdown",
   "metadata": {},
   "source": [
    "- 首先，节点是图谱中的基本标签，代表一个节点的基础信息，在这个图中有两个人以及一门课程名。\n",
    "- 其次，关系具有两个信息，其一用来链接两个节点，描述二者之间的关系名，如Andreas讲述该课程，Andrew介绍该课程。并且在关系中还有方向信息，丰富关系描述。\n",
    "- 对于关系，也有属性信息，比如在TEACH关系中，可以加入`year:2024`,在二人KNOWS关系中，也可以加入`since:2024`等额外补充属性信息。"
   ]
  },
  {
   "cell_type": "markdown",
   "metadata": {},
   "source": [
    "## 1.3 总结图谱"
   ]
  },
  {
   "cell_type": "markdown",
   "metadata": {},
   "source": [
    "- 图谱是一种存储节点与关系信息的数据库。\n",
    "- 节点和关系都可以用属性。\n",
    "- 节点能够以组的形式归类。\n",
    "- 关系总是具有自己的形式与方向。"
   ]
  }
 ],
 "metadata": {
  "language_info": {
   "name": "python"
  }
 },
 "nbformat": 4,
 "nbformat_minor": 2
}
