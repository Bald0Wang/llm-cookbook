{
 "cells": [
  {
   "cell_type": "markdown",
   "id": "4fee8a1a-242b-4853-9be2-46c19482eaf7",
   "metadata": {},
   "source": [
    "# 第六章：SEC 知识图谱扩展"
   ]
  },
  {
   "cell_type": "markdown",
   "id": "2bf4fb1c",
   "metadata": {},
   "source": [
    "- 在本章中，我们将引入第二个SEC数据集，以扩展原始提交表格的上下文。\n",
    "- 第二组表格提供了关于机构投资经理及其持有公司权益的信息。\n",
    "- 通过将这些数据添加到图谱中，我们将能够对组合数据集提出更复杂的问题，以帮助理解市场动态。"
   ]
  },
  {
   "cell_type": "markdown",
   "id": "c8bfccec",
   "metadata": {},
   "source": [
    "# 一、环境配置\n",
    "\n",
    "本教程使用 OpenAI 所开放的 ChatGPT API，因此您需要首先拥有一个 ChatGPT 的 API_KEY（也可以直接访问官方网址在线测试），然后需要安装 OpenAI 的第三方库。为了兼顾简便与兼容性，本教程将介绍在 ```Python 3``` 环境中基于 ```openai.api_key``` 方法的配置。另有基于环境变量的配置方法，详情请参考 [OpenAI 官方文档](https://help.openai.com/en/articles/5112595-best-practices-for-api-key-safety)。"
   ]
  },
  {
   "cell_type": "markdown",
   "id": "fde51a6d",
   "metadata": {},
   "source": [
    "首先需要安装 OpenAI，LangChain等工具库：\n",
    "```bash\n",
    "pip install openai langchain langchain_community langchain_openai\n",
    "```"
   ]
  },
  {
   "cell_type": "markdown",
   "id": "e196272d",
   "metadata": {},
   "source": [
    "- 首先我们要导入一些Python包，并设置一些全局变量，以便在笔记本中使用。"
   ]
  },
  {
   "cell_type": "markdown",
   "id": "45b1b912",
   "metadata": {},
   "source": [
    "## 1.1 导入第三方库"
   ]
  },
  {
   "cell_type": "code",
   "execution_count": null,
   "id": "73ad236c",
   "metadata": {},
   "outputs": [],
   "source": [
    "import os\n",
    "import textwrap\n",
    "\n",
    "# OpenAI\n",
    "import openai\n",
    "\n",
    "# Langchain\n",
    "from langchain_community.graphs import Neo4jGraph\n",
    "from langchain_community.vectorstores import Neo4jVector\n",
    "from langchain_openai import OpenAIEmbeddings\n",
    "from langchain.text_splitter import RecursiveCharacterTextSplitter\n",
    "from langchain.chains import RetrievalQAWithSourcesChain\n",
    "from langchain_openai import ChatOpenAI\n",
    "\n",
    "# Warning control\n",
    "import warnings\n",
    "warnings.filterwarnings(\"ignore\")"
   ]
  },
  {
   "cell_type": "markdown",
   "id": "65dadef7",
   "metadata": {},
   "source": [
    "## 1.2 设置环境变量"
   ]
  },
  {
   "cell_type": "code",
   "execution_count": null,
   "id": "0eb34034",
   "metadata": {},
   "outputs": [],
   "source": [
    "# 设置 API_KEY, 请替换成您自己的 API_KEY\n",
    "openai.api_key = \"sk-...\"\n",
    "\n",
    "# 设置 Neo4j, 请替换成您自己的 Neo4j_XXX\n",
    "NEO4J_URI = \"\"\n",
    "NEO4J_USERNAME = \"\"\n",
    "NEO4J_PASSWORD = \"\"\n",
    "NEO4J_DATABASE = 'neo4j'\n",
    "\n",
    "# Global constants\n",
    "VECTOR_INDEX_NAME = 'form_10k_chunks'\n",
    "VECTOR_NODE_LABEL = 'Chunk'\n",
    "VECTOR_SOURCE_PROPERTY = 'text'\n",
    "VECTOR_EMBEDDING_PROPERTY = 'textEmbedding'"
   ]
  },
  {
   "cell_type": "code",
   "execution_count": 3,
   "id": "c068179f-30ad-427c-a266-e4ed79494356",
   "metadata": {
    "height": 115
   },
   "outputs": [],
   "source": [
    "# 创建一个 Neo4jGraph 实例来连接到 Neo4j 数据库\n",
    "kg = Neo4jGraph(\n",
    "    url=NEO4J_URI, \n",
    "    username=NEO4J_USERNAME, \n",
    "    password=NEO4J_PASSWORD, \n",
    "    database=NEO4J_DATABASE\n",
    ")"
   ]
  },
  {
   "cell_type": "markdown",
   "id": "642ec3dc",
   "metadata": {},
   "source": [
    "# 二、数据加载"
   ]
  },
  {
   "cell_type": "markdown",
   "id": "73caaa2d",
   "metadata": {},
   "source": [
    "- SEC From 13 是由机构投资管理公司提交的，用来报告它们投资的上市公司。这些表格以 XML 文件的形式提供。\n",
    "- 在数据准备过程中，我们从 XML 中提取了特定字段，并将其添加到 CSV 文件中的一行。"
   ]
  },
  {
   "cell_type": "markdown",
   "id": "6ff82cc0",
   "metadata": {},
   "source": [
    "### 2.1 查看数据\n",
    "- 投资管理公司必须通过提交名为 **Form 13** 的文件向 SEC 报告其对公司的投资\n",
    "- 您将为已投资 NetApp 的经理加载 Form 13 的集合\n",
    "- 您可以在数据目录来查看 CSV 文件（./data/form13.csv）"
   ]
  },
  {
   "cell_type": "markdown",
   "id": "bac05297",
   "metadata": {},
   "source": [
    "- 首先，我们可以使用 csv.dictreader 读取CSV文件，它会解析每一行并将其转换为使用 csv 头行作为键的字典。"
   ]
  },
  {
   "cell_type": "code",
   "execution_count": 4,
   "id": "c741b665-aa5d-4650-8df6-9c43febbcdf5",
   "metadata": {
    "height": 149
   },
   "outputs": [],
   "source": [
    "import csv\n",
    "\n",
    "all_form13s = []\n",
    "\n",
    "with open('./data/form13.csv', mode='r') as csv_file:\n",
    "    csv_reader = csv.DictReader(csv_file)\n",
    "    for row in csv_reader: # each row will be a dictionary\n",
    "      all_form13s.append(row)"
   ]
  },
  {
   "cell_type": "markdown",
   "id": "5fb62083",
   "metadata": {},
   "source": [
    "- 让我们快速看一下这些行的样子，也许只看前五行。我们可以看到这些公司都投资于同一家公司。\n",
    "- 如果我们看看公司名称，有 NetApp，再次出现 NetApp 。这些管理公司有不同的名字，但它们都是 NetApp 的投资者。\n",
    "- 我们可以看到有关于公司本身的详细信息，比如经理的名字、经理的地址，以及这个中央索引键。还有关于它们所做投资的具体信息，比如报告日历是什么，价值是多少，股票数量是多少。这些都是合理的\n",
    "- 在这里，价值是货币价值，表示美元。我们还可以看到一些关于他们投资的公司的元数据，包括 cusip 代码和 cusip6 代码。"
   ]
  },
  {
   "cell_type": "code",
   "execution_count": 5,
   "id": "b09890e0-6e7b-445c-84dc-c988ec473fae",
   "metadata": {
    "height": 30
   },
   "outputs": [
    {
     "data": {
      "text/plain": [
       "[{'source': 'https://sec.gov/Archives/edgar/data/1000275/0001140361-23-039575.txt',\n",
       "  'managerCik': '1000275',\n",
       "  'managerAddress': 'ROYAL BANK PLAZA, 200 BAY STREET, TORONTO, A6, M5J2J5',\n",
       "  'managerName': 'Royal Bank of Canada',\n",
       "  'reportCalendarOrQuarter': '2023-06-30',\n",
       "  'cusip6': '64110D',\n",
       "  'cusip': '64110D104',\n",
       "  'companyName': 'NETAPP INC',\n",
       "  'value': '64395000000.0',\n",
       "  'shares': '842850'},\n",
       " {'source': 'https://sec.gov/Archives/edgar/data/1002784/0001387131-23-009542.txt',\n",
       "  'managerCik': '1002784',\n",
       "  'managerAddress': '1875 Lawrence Street, Suite 300, Denver, CO, 80202-1805',\n",
       "  'managerName': 'SHELTON CAPITAL MANAGEMENT',\n",
       "  'reportCalendarOrQuarter': '2023-06-30',\n",
       "  'cusip6': '64110D',\n",
       "  'cusip': '64110D104',\n",
       "  'companyName': 'NETAPP INC',\n",
       "  'value': '2989085000.0',\n",
       "  'shares': '39124'},\n",
       " {'source': 'https://sec.gov/Archives/edgar/data/1007280/0001007280-23-000008.txt',\n",
       "  'managerCik': '1007280',\n",
       "  'managerAddress': '277 E TOWN ST, COLUMBUS, OH, 43215',\n",
       "  'managerName': 'PUBLIC EMPLOYEES RETIREMENT SYSTEM OF OHIO',\n",
       "  'reportCalendarOrQuarter': '2023-06-30',\n",
       "  'cusip6': '64110D',\n",
       "  'cusip': '64110D104',\n",
       "  'companyName': 'Netapp Inc',\n",
       "  'value': '8170000.0',\n",
       "  'shares': '106941'},\n",
       " {'source': 'https://sec.gov/Archives/edgar/data/1007399/0001007399-23-000004.txt',\n",
       "  'managerCik': '1007399',\n",
       "  'managerAddress': '150 WEST MAIN STREET, SUITE 1700, NORFOLK, VA, 23510',\n",
       "  'managerName': 'WILBANKS SMITH & THOMAS ASSET MANAGEMENT LLC',\n",
       "  'reportCalendarOrQuarter': '2023-06-30',\n",
       "  'cusip6': '64110D',\n",
       "  'cusip': '64110D104',\n",
       "  'companyName': 'NETAPP INC',\n",
       "  'value': '505539000.0',\n",
       "  'shares': '6617'},\n",
       " {'source': 'https://sec.gov/Archives/edgar/data/1008894/0001172661-23-003025.txt',\n",
       "  'managerCik': '1008894',\n",
       "  'managerAddress': '250 Park Avenue South, Suite 250, Winter Park, FL, 32789',\n",
       "  'managerName': 'DEPRINCE RACE & ZOLLO INC',\n",
       "  'reportCalendarOrQuarter': '2023-06-30',\n",
       "  'cusip6': '64110D',\n",
       "  'cusip': '64110D104',\n",
       "  'companyName': 'NETAPP INC',\n",
       "  'value': '24492389000.0',\n",
       "  'shares': '320581'}]"
      ]
     },
     "execution_count": 5,
     "metadata": {},
     "output_type": "execute_result"
    }
   ],
   "source": [
    "all_form13s[0:5]"
   ]
  },
  {
   "cell_type": "markdown",
   "id": "f0a32af9",
   "metadata": {},
   "source": [
    "- 让我们看看有多少行。我们会检查长度。"
   ]
  },
  {
   "cell_type": "code",
   "execution_count": 6,
   "id": "8b443488-4815-4ed2-9927-132e3a625bfe",
   "metadata": {
    "height": 30
   },
   "outputs": [
    {
     "data": {
      "text/plain": [
       "561"
      ]
     },
     "execution_count": 6,
     "metadata": {},
     "output_type": "execute_result"
    }
   ],
   "source": [
    "len(all_form13s)"
   ]
  },
  {
   "cell_type": "markdown",
   "id": "29399212",
   "metadata": {},
   "source": [
    "- 好的，有561行。我们预计会创建561家公司。"
   ]
  },
  {
   "cell_type": "markdown",
   "id": "97c7bfce",
   "metadata": {},
   "source": [
    "# 三、图谱构建"
   ]
  },
  {
   "cell_type": "markdown",
   "id": "0227a8dc",
   "metadata": {},
   "source": [
    "- 现在从每一行中，我们将创建两个节点，一个是管理公司，一个是它们投资的公司。\n",
    "- 管理公司节点将有一个经理标签。它们将基于SEC的中央索引键唯一，并且还会有一个经理名称属性。\n",
    "- 公司节点将有一个公司标签，它们将基于 cusip6 标识符唯一。\n",
    "- 公司节点还会从 Form 13 数据中获得一个公司名称和一个完整的 cusip6 属性。"
   ]
  },
  {
   "cell_type": "markdown",
   "id": "67a010d6",
   "metadata": {},
   "source": [
    "首先，让我们创建公司节点。"
   ]
  },
  {
   "cell_type": "markdown",
   "id": "ab18cefe",
   "metadata": {},
   "source": [
    "### 3.1 创建公司节点"
   ]
  },
  {
   "cell_type": "markdown",
   "id": "21b8f25e",
   "metadata": {},
   "source": [
    "- 我们合并具有公司标签且唯一由 cusip6 标识符标识的公司节点。\n",
    "- 我们看到，在创建时，我们将设置公司名称和 cusip6 编号。"
   ]
  },
  {
   "cell_type": "code",
   "execution_count": 7,
   "id": "4e63a8f2-acbd-4ce1-b433-83cdbe0375bf",
   "metadata": {
    "height": 268
   },
   "outputs": [
    {
     "data": {
      "text/plain": [
       "[]"
      ]
     },
     "execution_count": 7,
     "metadata": {},
     "output_type": "execute_result"
    }
   ],
   "source": [
    "# 现在只使用第一个表格\n",
    "first_form13 = all_form13s[0]\n",
    "\n",
    "cypher = \"\"\"\n",
    "MERGE (com:Company {cusip6: $cusip6})\n",
    "  ON CREATE\n",
    "    SET com.companyName = $companyName,\n",
    "        com.cusip = $cusip\n",
    "\"\"\"\n",
    "\n",
    "kg.query(cypher, params={\n",
    "    'cusip6':first_form13['cusip6'], \n",
    "    'companyName':first_form13['companyName'], \n",
    "    'cusip':first_form13['cusip'] \n",
    "})"
   ]
  },
  {
   "cell_type": "markdown",
   "id": "7450c0b7",
   "metadata": {},
   "source": [
    "快速检查一下合理性，我们预计创建的公司是NetApp。"
   ]
  },
  {
   "cell_type": "code",
   "execution_count": 8,
   "id": "f48e6d64-b920-4738-8f4c-ce632dad923d",
   "metadata": {
    "height": 115
   },
   "outputs": [
    {
     "data": {
      "text/plain": [
       "[{'com': {'cusip': '64110D104',\n",
       "   'companyName': 'NETAPP INC',\n",
       "   'cusip6': '64110D'}}]"
      ]
     },
     "execution_count": 8,
     "metadata": {},
     "output_type": "execute_result"
    }
   ],
   "source": [
    "cypher = \"\"\"\n",
    "MATCH (com:Company)\n",
    "RETURN com LIMIT 1\n",
    "\"\"\"\n",
    "\n",
    "kg.query(cypher)"
   ]
  },
  {
   "cell_type": "markdown",
   "id": "477e6893",
   "metadata": {},
   "source": [
    "- 我们已经在知识图谱中为 NetApp 创建了 Form10k 表格。我们可以通过找到基于 cusip6 标识符的节点对来匹配新创建的公司节点和相关的 Form10k 表格。我们在这里所做的就是匹配一个公司和一个表格，这两个节点的 cusip6 相同，然后返回这两个节点。\n",
    "- 我们可以再次运行这个匹配，但现在因为我们注意到表格名称，表格中的公司名称不仅显示 NetApp Inc，还显示了名称的变体。"
   ]
  },
  {
   "cell_type": "code",
   "execution_count": 9,
   "id": "de2b3422-6b82-4adc-8e18-1c3d195472b1",
   "metadata": {
    "height": 132
   },
   "outputs": [
    {
     "data": {
      "text/plain": [
       "[{'com.companyName': 'NETAPP INC', 'form.names': ['Netapp Inc', 'NETAPP INC']}]"
      ]
     },
     "execution_count": 9,
     "metadata": {},
     "output_type": "execute_result"
    }
   ],
   "source": [
    "cypher = \"\"\"\n",
    "  MATCH (com:Company), (form:Form)\n",
    "    WHERE com.cusip6 = form.cusip6\n",
    "  RETURN com.companyName, form.names\n",
    "\"\"\"\n",
    "\n",
    "kg.query(cypher)"
   ]
  },
  {
   "cell_type": "markdown",
   "id": "5e8ab504",
   "metadata": {},
   "source": [
    "- 我们可以将这些值提取到公司节点以丰富它。我们会根据 cusip6 进行匹配，然后一旦得到匹配，我们将设置公司的名称为表格的名称。"
   ]
  },
  {
   "cell_type": "code",
   "execution_count": 10,
   "id": "64422771-f6c4-4010-9691-eb42dc91df78",
   "metadata": {
    "height": 132
   },
   "outputs": [
    {
     "data": {
      "text/plain": [
       "[]"
      ]
     },
     "execution_count": 10,
     "metadata": {},
     "output_type": "execute_result"
    }
   ],
   "source": [
    "cypher = \"\"\"\n",
    "  MATCH (com:Company), (form:Form)\n",
    "    WHERE com.cusip6 = form.cusip6\n",
    "  SET com.names = form.names\n",
    "\"\"\"\n",
    "\n",
    "kg.query(cypher)"
   ]
  },
  {
   "cell_type": "code",
   "execution_count": 11,
   "id": "1b24cc9f-3b33-4e9d-aef3-c7fc9d79c10f",
   "metadata": {
    "height": 115
   },
   "outputs": [
    {
     "data": {
      "text/plain": [
       "[]"
      ]
     },
     "execution_count": 11,
     "metadata": {},
     "output_type": "execute_result"
    }
   ],
   "source": [
    "kg.query(\"\"\"\n",
    "  MATCH (com:Company), (form:Form)\n",
    "    WHERE com.cusip6 = form.cusip6\n",
    "  MERGE (com)-[:FILED]->(form)\n",
    "\"\"\")\n"
   ]
  },
  {
   "cell_type": "markdown",
   "id": "2fd70885",
   "metadata": {},
   "source": [
    "### 3.2 创建经理节点"
   ]
  },
  {
   "cell_type": "markdown",
   "id": "b2695a9d",
   "metadata": {},
   "source": [
    "- 进一步，通过从公司到表格的配对，我们现在将创建一个关系，以便我们知道这个公司提交了这个表格。\n",
    "- 投资经理节点将有一个 manager 标签，接下来让我们创建这些节点。\n",
    "- 我们有一个带有 manager 标签的经理节点，我们希望它根据经理的 CiK 编号是唯一的。\n",
    "- 在创建时，我们将设置经理名称和经理地址。像之前一样，我们将传递一个字典到 manager 参数中，这将是用于在这个查询中创建这些节点的查询参数。\n",
    "- 我们首先仅为第一个 Form 13 这样做。"
   ]
  },
  {
   "cell_type": "code",
   "execution_count": 12,
   "id": "bd76c0f5-4ed6-43c3-8cc7-39ae1daa7f6e",
   "metadata": {
    "height": 149
   },
   "outputs": [
    {
     "data": {
      "text/plain": [
       "[]"
      ]
     },
     "execution_count": 12,
     "metadata": {},
     "output_type": "execute_result"
    }
   ],
   "source": [
    "cypher = \"\"\"\n",
    "  MERGE (mgr:Manager {managerCik: $managerParam.managerCik})\n",
    "    ON CREATE\n",
    "        SET mgr.managerName = $managerParam.managerName,\n",
    "            mgr.managerAddress = $managerParam.managerAddress\n",
    "\"\"\"\n",
    "\n",
    "kg.query(cypher, params={'managerParam': first_form13})"
   ]
  },
  {
   "cell_type": "markdown",
   "id": "8a65e260",
   "metadata": {},
   "source": [
    "快速检查一下合理性，确保我们做得正确。"
   ]
  },
  {
   "cell_type": "code",
   "execution_count": 13,
   "id": "b88849f6-5965-48ca-9067-9882bcd5f816",
   "metadata": {
    "height": 81
   },
   "outputs": [
    {
     "data": {
      "text/plain": [
       "[{'mgr': {'managerCik': '1000275',\n",
       "   'managerAddress': 'ROYAL BANK PLAZA, 200 BAY STREET, TORONTO, A6, M5J2J5',\n",
       "   'managerName': 'Royal Bank of Canada'}}]"
      ]
     },
     "execution_count": 13,
     "metadata": {},
     "output_type": "execute_result"
    }
   ],
   "source": [
    "kg.query(\"\"\"\n",
    "  MATCH (mgr:Manager)\n",
    "  RETURN mgr LIMIT 1\n",
    "\"\"\")"
   ]
  },
  {
   "cell_type": "markdown",
   "id": "fc86bd60-be9f-455f-9cea-c3fbd018d212",
   "metadata": {},
   "source": [
    "### 3.3 创建唯一性约束以避免重复的经理"
   ]
  },
  {
   "cell_type": "markdown",
   "id": "2c44fe49",
   "metadata": {},
   "source": [
    "- 管理公司会有很多，多达 561个。所以我们创建一个唯一性约束，以避免意外创建重复节点。"
   ]
  },
  {
   "cell_type": "code",
   "execution_count": 14,
   "id": "b39079fc-d49d-490d-ae33-189e3a56142e",
   "metadata": {
    "height": 115
   },
   "outputs": [
    {
     "data": {
      "text/plain": [
       "[]"
      ]
     },
     "execution_count": 14,
     "metadata": {},
     "output_type": "execute_result"
    }
   ],
   "source": [
    "kg.query(\"\"\"\n",
    "CREATE CONSTRAINT unique_manager \n",
    "  IF NOT EXISTS\n",
    "  FOR (n:Manager) \n",
    "  REQUIRE n.managerCik IS UNIQUE\n",
    "\"\"\")"
   ]
  },
  {
   "cell_type": "markdown",
   "id": "39fd7e0d-d09f-46bb-b2c4-f952d68636c6",
   "metadata": {},
   "source": [
    "### 3.4 创建经理姓名的全文索引以启用文本搜索"
   ]
  },
  {
   "cell_type": "markdown",
   "id": "45043c3d",
   "metadata": {},
   "source": [
    "- 另外，我们还可以在经理节点上创建一个全文索引。全文索引对于关键字搜索非常有用。如果我们考虑向量索引，它允许我们基于相似概念进行搜索。全文索引允许基于相似字符串进行搜索。我们可以直接查询全文索引，就像我们可以直接查询向量索引一样。"
   ]
  },
  {
   "cell_type": "code",
   "execution_count": 15,
   "id": "8e5db369-9a6d-4cae-af40-5a4efee47f01",
   "metadata": {
    "height": 132
   },
   "outputs": [
    {
     "data": {
      "text/plain": [
       "[]"
      ]
     },
     "execution_count": 15,
     "metadata": {},
     "output_type": "execute_result"
    }
   ],
   "source": [
    "kg.query(\"\"\"\n",
    "CREATE FULLTEXT INDEX fullTextManagerNames\n",
    "  IF NOT EXISTS\n",
    "  FOR (mgr:Manager) \n",
    "  ON EACH [mgr.managerName]\n",
    "\"\"\")\n"
   ]
  },
  {
   "cell_type": "markdown",
   "id": "453a979f",
   "metadata": {},
   "source": [
    "- 在这里，我们将搜索 \"royal bank\"。查询将返回一个节点和一个分数，就像向量搜索一样。如果匹配，我们会找到节点管理器名称以及分数。所以 \"royal\" 和 \"bank\" 都找到了不错的匹配项。但最佳匹配当然是加拿大皇家银行。"
   ]
  },
  {
   "cell_type": "code",
   "execution_count": 16,
   "id": "dd04b473-2ded-4efe-8b13-ba229c9d046f",
   "metadata": {
    "height": 98
   },
   "outputs": [
    {
     "data": {
      "text/plain": [
       "[{'node.managerName': 'Royal Bank of Canada', 'score': 0.2615291476249695}]"
      ]
     },
     "execution_count": 16,
     "metadata": {},
     "output_type": "execute_result"
    }
   ],
   "source": [
    "kg.query(\"\"\"\n",
    "  CALL db.index.fulltext.queryNodes(\"fullTextManagerNames\", \n",
    "      \"royal bank\") YIELD node, score\n",
    "  RETURN node.managerName, score\n",
    "\"\"\")"
   ]
  },
  {
   "cell_type": "markdown",
   "id": "19190b8b",
   "metadata": {},
   "source": [
    "- 现在我们准备为CSV文件中出现的所有管理公司创建节点。只需使用Python遍历所有行。\n",
    "- 所以在参数中，我们将经理参数设置为任何Form 13。我们知道这是一个字典，因为所有Form 13都是字典列表。"
   ]
  },
  {
   "cell_type": "code",
   "execution_count": 17,
   "id": "909eb642-92a9-4da4-8092-f3d0858243a0",
   "metadata": {
    "height": 166
   },
   "outputs": [],
   "source": [
    "cypher = \"\"\"\n",
    "  MERGE (mgr:Manager {managerCik: $managerParam.managerCik})\n",
    "    ON CREATE\n",
    "        SET mgr.managerName = $managerParam.managerName,\n",
    "            mgr.managerAddress = $managerParam.managerAddress\n",
    "\"\"\"\n",
    "# loop through all Form 13s\n",
    "for form13 in all_form13s:\n",
    "  kg.query(cypher, params={'managerParam': form13 })"
   ]
  },
  {
   "cell_type": "markdown",
   "id": "d3b0398c",
   "metadata": {},
   "source": [
    "再次检查合理性，所以我们将匹配所有经理并返回这些经理的计数。我们预计有561个。"
   ]
  },
  {
   "cell_type": "code",
   "execution_count": 18,
   "id": "39b64c10-1baf-4f67-92a6-986a5040c010",
   "metadata": {
    "height": 81
   },
   "outputs": [
    {
     "data": {
      "text/plain": [
       "[{'count(mgr)': 561}]"
      ]
     },
     "execution_count": 18,
     "metadata": {},
     "output_type": "execute_result"
    }
   ],
   "source": [
    "kg.query(\"\"\"\n",
    "    MATCH (mgr:Manager) \n",
    "    RETURN count(mgr)\n",
    "\"\"\")"
   ]
  },
  {
   "cell_type": "markdown",
   "id": "4dff9c88",
   "metadata": {},
   "source": [
    "### 3.5 在经理和公司之间建立关系"
   ]
  },
  {
   "cell_type": "markdown",
   "id": "2ec196af",
   "metadata": {},
   "source": [
    "现在我们可以使用 Form 13 CSV 中的信息找到管理节点和公司节点的配对。\n",
    "- 在这个查询中，我们可以看到我们将传递一个名为investment parameter的查询参数。\n",
    "- 在匹配中，我们将匹配investment parameter的manager CIK，然后找到同一行中的公司，我们将找到investment parameter的 cusip6。所以这个匹配将基于这两个值找到一个匹配该行的经理和公司。如果我们记得我们的第一个真实数据，那就是加拿大皇家银行。当然，它们投资了NetApp。"
   ]
  },
  {
   "cell_type": "code",
   "execution_count": 19,
   "id": "fc00d1a0-62f8-4e8a-8422-b6b054537b33",
   "metadata": {
    "height": 166
   },
   "outputs": [
    {
     "data": {
      "text/plain": [
       "[{'mgr.managerName': 'Royal Bank of Canada',\n",
       "  'com.companyName': 'NETAPP INC',\n",
       "  'investment': {'shares': '842850',\n",
       "   'source': 'https://sec.gov/Archives/edgar/data/1000275/0001140361-23-039575.txt',\n",
       "   'managerName': 'Royal Bank of Canada',\n",
       "   'managerAddress': 'ROYAL BANK PLAZA, 200 BAY STREET, TORONTO, A6, M5J2J5',\n",
       "   'value': '64395000000.0',\n",
       "   'cusip6': '64110D',\n",
       "   'cusip': '64110D104',\n",
       "   'reportCalendarOrQuarter': '2023-06-30',\n",
       "   'companyName': 'NETAPP INC',\n",
       "   'managerCik': '1000275'}}]"
      ]
     },
     "execution_count": 19,
     "metadata": {},
     "output_type": "execute_result"
    }
   ],
   "source": [
    "cypher = \"\"\"\n",
    "  MATCH (mgr:Manager {managerCik: $investmentParam.managerCik}), \n",
    "        (com:Company {cusip6: $investmentParam.cusip6})\n",
    "  RETURN mgr.managerName, com.companyName, $investmentParam as investment\n",
    "\"\"\"\n",
    "\n",
    "kg.query(cypher, params={ \n",
    "    'investmentParam': first_form13 \n",
    "})"
   ]
  },
  {
   "cell_type": "markdown",
   "id": "37cde49a",
   "metadata": {},
   "source": [
    "- 我们可以找到管理节点和它们投资的公司。很好。现在我们可以将这些节点连接起来。这是我们在课程中之前做过的事情，但查询会有点长。所以让我们逐行解析它。\n",
    "- 我们要创建一些 Cypher。第一行我们想要的是我们之前的确切匹配，所以现在我们有一个经理和它们投资的相关公司。所以我们想要在它们之间创建一个关系，我们将使用 merge。\n",
    "- 我们将从那个经理通过一个 ownStockin 关系合并到公司。我们希望ownStockin是唯一的，以防它们有多次投资。\n",
    "- 如果我们还记得，查看CSV文件时，一些行有一个报告日历或季度值。让我们使用这个作为我们要创建的ownStockin关系的唯一属性。\n",
    "- 属性将被称为报告日历或季度。我们将从查询参数中获取它。我们之前见过这个。在关系创建时，我们还将创建这些额外的值。\n",
    "- 最后，我们将从经理、创建的关系和公司的名称中返回几个属性。\n",
    "- 当我们用KG查询调用它时，要传递的参数叫做 ownsParam。这是我们在这里一直使用的。我们现在将只使用第一个Form 13。"
   ]
  },
  {
   "cell_type": "code",
   "execution_count": 20,
   "id": "9de36066-caa3-43e1-9bf8-3cfda9a1a9eb",
   "metadata": {
    "height": 234
   },
   "outputs": [
    {
     "data": {
      "text/plain": [
       "[{'mgr.managerName': 'Royal Bank of Canada',\n",
       "  'owns.reportCalendarOrQuarter': '2023-06-30',\n",
       "  'com.companyName': 'NETAPP INC'}]"
      ]
     },
     "execution_count": 20,
     "metadata": {},
     "output_type": "execute_result"
    }
   ],
   "source": [
    "cypher = \"\"\"\n",
    "MATCH (mgr:Manager {managerCik: $ownsParam.managerCik}), \n",
    "        (com:Company {cusip6: $ownsParam.cusip6})\n",
    "MERGE (mgr)-[owns:OWNS_STOCK_IN { \n",
    "    reportCalendarOrQuarter: $ownsParam.reportCalendarOrQuarter\n",
    "}]->(com)\n",
    "ON CREATE\n",
    "    SET owns.value  = toFloat($ownsParam.value), \n",
    "        owns.shares = toInteger($ownsParam.shares)\n",
    "RETURN mgr.managerName, owns.reportCalendarOrQuarter, com.companyName\n",
    "\"\"\"\n",
    "\n",
    "kg.query(cypher, params={ 'ownsParam': first_form13 })"
   ]
  },
  {
   "cell_type": "markdown",
   "id": "213b368d",
   "metadata": {},
   "source": [
    "- 我们将运行一个快速查询再次检查，确保关系确实存在。\n",
    "- 我们将在模式中抓取关系，然后从owns关系中返回股份和价值。"
   ]
  },
  {
   "cell_type": "code",
   "execution_count": 21,
   "id": "b6eca492-60ae-49b8-910e-fc462e0945fa",
   "metadata": {
    "height": 115
   },
   "outputs": [
    {
     "data": {
      "text/plain": [
       "[{'owns': {'shares': 842850, 'value': 64395000000.0}}]"
      ]
     },
     "execution_count": 21,
     "metadata": {},
     "output_type": "execute_result"
    }
   ],
   "source": [
    "kg.query(\"\"\"\n",
    "MATCH (mgr:Manager {managerCik: $ownsParam.managerCik})\n",
    "-[owns:OWNS_STOCK_IN]->\n",
    "        (com:Company {cusip6: $ownsParam.cusip6})\n",
    "RETURN owns { .shares, .value }\n",
    "\"\"\", params={ 'ownsParam': first_form13 })"
   ]
  },
  {
   "cell_type": "markdown",
   "id": "228516cd-9098-4ac5-89ed-868d2cb1d2ef",
   "metadata": {},
   "source": [
    "- 完成一次后，我们可以遍历CSV文件中的所有行，创建管理公司和它们投资的公司之间的ownstock关系。\n",
    "- 当然，那家公司将是NetApp。这和我们之前做的一样，我们只是遍历所有行，创建所有合并语句来创建关系。"
   ]
  },
  {
   "cell_type": "code",
   "execution_count": 22,
   "id": "e54d0d1d-ddfe-410e-a1e2-9c652b248706",
   "metadata": {
    "height": 251
   },
   "outputs": [],
   "source": [
    "cypher = \"\"\"\n",
    "MATCH (mgr:Manager {managerCik: $ownsParam.managerCik}), \n",
    "        (com:Company {cusip6: $ownsParam.cusip6})\n",
    "MERGE (mgr)-[owns:OWNS_STOCK_IN { \n",
    "    reportCalendarOrQuarter: $ownsParam.reportCalendarOrQuarter \n",
    "    }]->(com)\n",
    "  ON CREATE\n",
    "    SET owns.value  = toFloat($ownsParam.value), \n",
    "        owns.shares = toInteger($ownsParam.shares)\n",
    "\"\"\"\n",
    "\n",
    "# 循环所有的 Form 13s\n",
    "for form13 in all_form13s:\n",
    "  kg.query(cypher, params={'ownsParam': form13 })"
   ]
  },
  {
   "cell_type": "markdown",
   "id": "27418644",
   "metadata": {},
   "source": [
    "- 再次快速检查确保我们做对了，我们预计创建了561个关系。"
   ]
  },
  {
   "cell_type": "code",
   "execution_count": 23,
   "id": "fcacbf4a-a588-46a8-8265-bbcd25b4312b",
   "metadata": {
    "height": 115
   },
   "outputs": [
    {
     "data": {
      "text/plain": [
       "[{'investments': 561}]"
      ]
     },
     "execution_count": 23,
     "metadata": {},
     "output_type": "execute_result"
    }
   ],
   "source": [
    "cypher = \"\"\"\n",
    "  MATCH (:Manager)-[owns:OWNS_STOCK_IN]->(:Company)\n",
    "  RETURN count(owns) as investments\n",
    "\"\"\"\n",
    "\n",
    "kg.query(cypher)"
   ]
  },
  {
   "cell_type": "markdown",
   "id": "abc61629",
   "metadata": {},
   "source": [
    "- 我们从最初开始就已经改变了知识图谱很多。我们从Form 10-Ks的块开始，然后我们连接这些块，并创建了一个表格以连接这些块。现在我们创建了公司和经理，所有这些都已连接。让我们看看知识图谱的模式，以了解我们所有工作的成果。\n",
    "- 我们可以通过刷新知识图谱上的模式案来做到这一点，然后打印出模式。\n",
    "- 我们将利用TextWrap来尝试获得一些良好的格式。"
   ]
  },
  {
   "cell_type": "code",
   "execution_count": 24,
   "id": "3db81fbe-f0c1-47cb-a8f3-7bb13e7db01d",
   "metadata": {
    "height": 47
   },
   "outputs": [
    {
     "name": "stdout",
     "output_type": "stream",
     "text": [
      "Node properties are the following: Chunk {textEmbedding:\n",
      "LIST, f10kItem: STRING, chunkSeqId: INTEGER, text: STRING,\n",
      "cik: STRING, cusip6: STRING, names: LIST, formId: STRING,\n",
      "source: STRING, chunkId: STRING},Form {cusip6: STRING,\n",
      "names: LIST, formId: STRING, source: STRING},Company\n",
      "{cusip6: STRING, names: LIST, companyName: STRING, cusip:\n",
      "STRING},Manager {managerName: STRING, managerCik: STRING,\n",
      "managerAddress: STRING} Relationship properties are the\n",
      "following: SECTION {f10kItem: STRING},OWNS_STOCK_IN {shares:\n",
      "INTEGER, reportCalendarOrQuarter: STRING, value: FLOAT} The\n",
      "relationships are the following: (:Chunk)-[:NEXT]-\n",
      ">(:Chunk),(:Chunk)-[:PART_OF]->(:Form),(:Form)-[:SECTION]-\n",
      ">(:Chunk),(:Company)-[:FILED]->(:Form),(:Manager)-\n",
      "[:OWNS_STOCK_IN]->(:Company)\n"
     ]
    }
   ],
   "source": [
    "kg.refresh_schema()\n",
    "print(textwrap.fill(kg.schema, 60))"
   ]
  },
  {
   "cell_type": "markdown",
   "id": "bc727aa2",
   "metadata": {},
   "source": [
    "- 首先是我们在知识图谱中的节点。我们可以看到我们有一个带有属性的块节点，在这里是表格节点，它的属性。这里是我们创建的经理和公司及其所有属性。太棒了。\n",
    "- 下半部分是关系，我们可以看到这里有一个块是表格的一部分。这是正确的。我们知道块之间有一个next关系。这是块的链表。太棒了。\n",
    "- 我们也可以从表格通过部分到块。这就是我们找到链表开头的方式。\n",
    "- 最后，我们知道经理拥有公司股票，并且公司提交了表格。\n",
    "- 所有这些一起构成了我们刚刚创建的知识图谱。"
   ]
  },
  {
   "cell_type": "markdown",
   "id": "e7165000",
   "metadata": {},
   "source": [
    "# 四、图谱查询"
   ]
  },
  {
   "cell_type": "markdown",
   "id": "1b311dfe",
   "metadata": {},
   "source": [
    "让我们看看我们能在图谱中找到什么有趣的东西。"
   ]
  },
  {
   "cell_type": "markdown",
   "id": "80aab435-67f1-4d8f-a578-a099f25def94",
   "metadata": {},
   "source": [
    "### 4.1 确定投资者数量"
   ]
  },
  {
   "cell_type": "markdown",
   "id": "0ab33850",
   "metadata": {},
   "source": [
    "- 首先，找到一个随机块，以便在后续查询中使用。所以我们只是匹配块并返回第一个块ID作为chunk ID，并将其限制为1。\n",
    "- 这是我们找到的第一个块。所以当我们运行这个查询时，我们会将其保存在chunk rows中并打印出chunk rows。"
   ]
  },
  {
   "cell_type": "code",
   "execution_count": 25,
   "id": "ac455645-f98c-4e91-ad8f-7ea555781613",
   "metadata": {
    "height": 132
   },
   "outputs": [
    {
     "name": "stdout",
     "output_type": "stream",
     "text": [
      "[{'chunkId': '0000950170-23-027948-item1-chunk0000'}]\n"
     ]
    }
   ],
   "source": [
    "cypher = \"\"\"\n",
    "    MATCH (chunk:Chunk)\n",
    "    RETURN chunk.chunkId as chunkId LIMIT 1\n",
    "    \"\"\"\n",
    "\n",
    "chunk_rows = kg.query(cypher)\n",
    "print(chunk_rows)"
   ]
  },
  {
   "cell_type": "markdown",
   "id": "66a48cdd",
   "metadata": {},
   "source": [
    "- 很好，这就是我们的块ID。让我们存储它，以便以后使用。\n",
    "- 我们可以看到这是一个包含字典的列表，所以首先让我们从列表中提取内容。所以现在我们只有字典。"
   ]
  },
  {
   "cell_type": "code",
   "execution_count": 26,
   "id": "d748b6e4-80c4-45d1-9afb-34381331f605",
   "metadata": {
    "height": 47
   },
   "outputs": [
    {
     "name": "stdout",
     "output_type": "stream",
     "text": [
      "{'chunkId': '0000950170-23-027948-item1-chunk0000'}\n"
     ]
    }
   ],
   "source": [
    "chunk_first_row = chunk_rows[0]\n",
    "print(chunk_first_row)"
   ]
  },
  {
   "cell_type": "markdown",
   "id": "7fb01762",
   "metadata": {},
   "source": [
    "- 然后，我们从块的第一行中提取块ID并将其存储在refChunkId中，以便以后查询使用。"
   ]
  },
  {
   "cell_type": "code",
   "execution_count": 27,
   "id": "09aeb04f-98ac-4939-9ad4-4caa85ef97af",
   "metadata": {
    "height": 47
   },
   "outputs": [
    {
     "data": {
      "text/plain": [
       "'0000950170-23-027948-item1-chunk0000'"
      ]
     },
     "execution_count": 27,
     "metadata": {},
     "output_type": "execute_result"
    }
   ],
   "source": [
    "ref_chunk_id = chunk_first_row['chunkId']\n",
    "print(ref_chunk_id)"
   ]
  },
  {
   "cell_type": "markdown",
   "id": "776dbdac-23c8-4a39-954e-4eed8f2525a4",
   "metadata": {},
   "source": [
    "- 我们将从我们知道的块开始，逐步通过表格回到其他可以逐步发现的东西，看看可能是什么。\n",
    "- 首先，我们将从我们知道的块开始，块ID，然后通过part of关系到它所属的表格，并返回表格来源。"
   ]
  },
  {
   "cell_type": "code",
   "execution_count": 28,
   "id": "d40f129d-750d-4f7f-be88-eb45281c534b",
   "metadata": {
    "height": 115
   },
   "outputs": [
    {
     "data": {
      "text/plain": [
       "[{'f.source': 'https://www.sec.gov/Archives/edgar/data/1002047/000095017023027948/0000950170-23-027948-index.htm'}]"
      ]
     },
     "execution_count": 28,
     "metadata": {},
     "output_type": "execute_result"
    }
   ],
   "source": [
    "cypher = \"\"\"\n",
    "    MATCH (:Chunk {chunkId: $chunkIdParam})-[:PART_OF]->(f:Form)\n",
    "    RETURN f.source\n",
    "    \"\"\"\n",
    "\n",
    "kg.query(cypher, params={'chunkIdParam': ref_chunk_id})"
   ]
  },
  {
   "cell_type": "markdown",
   "id": "a57f1fa0",
   "metadata": {},
   "source": [
    "- 我们将再进行一步，在这个模式中，我们将实际上把它分成两行。所以这是一个块，它是一个表格的一部分，而那个表格是由公司提交的，如果我们倒过来看第二部分，并返回公司名称。\n",
    "- 正如我们所期望的，这是我们的好朋友 NetApp 。"
   ]
  },
  {
   "cell_type": "code",
   "execution_count": 29,
   "id": "342246fa-715f-4078-90db-200d33232046",
   "metadata": {
    "height": 132
   },
   "outputs": [
    {
     "data": {
      "text/plain": [
       "[{'name': 'NETAPP INC'}]"
      ]
     },
     "execution_count": 29,
     "metadata": {},
     "output_type": "execute_result"
    }
   ],
   "source": [
    "cypher = \"\"\"\n",
    "MATCH (:Chunk {chunkId: $chunkIdParam})-[:PART_OF]->(f:Form),\n",
    "    (com:Company)-[:FILED]->(f)\n",
    "RETURN com.companyName as name\n",
    "\"\"\"\n",
    "\n",
    "kg.query(cypher, params={'chunkIdParam': ref_chunk_id})"
   ]
  },
  {
   "cell_type": "markdown",
   "id": "e9eefb10",
   "metadata": {},
   "source": [
    "- 我们将再扩展一步。这里我们将从一个块开始，它是表格的一部分，而那个公司提交了表格。然后有一个经理或管理投资公司拥有那个公司的股票。这里的 com 就是公司，所有这些变量必须匹配。\n",
    "- 这是一个大的模式，分成三部分。我们将返回公司名称和投资该公司的经理数量，称其为投资者数量。\n",
    "- 这是一个很好的验证。好的，当然公司是NetApp，正如预期，我们知道有561个投资者。"
   ]
  },
  {
   "cell_type": "code",
   "execution_count": 30,
   "id": "8e2905fc-0d74-43e0-87c7-62d181b1703d",
   "metadata": {
    "height": 217
   },
   "outputs": [
    {
     "data": {
      "text/plain": [
       "[{'com.companyName': 'NETAPP INC', 'numberOfinvestors': 561}]"
      ]
     },
     "execution_count": 30,
     "metadata": {},
     "output_type": "execute_result"
    }
   ],
   "source": [
    "cypher = \"\"\"\n",
    "MATCH (:Chunk {chunkId: $chunkIdParam})-[:PART_OF]->(f:Form),\n",
    "        (com:Company)-[:FILED]->(f),\n",
    "        (mgr:Manager)-[:OWNS_STOCK_IN]->(com)\n",
    "RETURN com.companyName, \n",
    "        count(mgr.managerName) as numberOfinvestors \n",
    "LIMIT 1\n",
    "\"\"\"\n",
    "\n",
    "kg.query(cypher, params={\n",
    "    'chunkIdParam': ref_chunk_id\n",
    "})"
   ]
  },
  {
   "cell_type": "markdown",
   "id": "6414d691-ac43-4405-bb34-9d9a00ca7517",
   "metadata": {},
   "source": [
    "### 4.2 使用查询为 LLM 构建额外的上下文"
   ]
  },
  {
   "cell_type": "markdown",
   "id": "cd545339",
   "metadata": {},
   "source": [
    "- 我们开始看到一些知识图谱的有趣且有用之处，这是仅通过向量搜索无法实现的信息。\n",
    "- 我们刚刚创建的模式是有用的信息，我们可以使用这些信息来扩展提供给LLM的上下文。例如，我们可以找到公司的投资者，然后创建包含每个投资的详细信息的句子，以进一步扩展提供给LLM的信息。\n",
    "- 我们将使用之前的相同匹配，相同的模式，然后不仅仅是返回那些数据，而是将其中一些数据转换为字符串句子。\n",
    "- 我们会注意到两件额外的事情。这只是将字符串连接在一起，但这里我们将值转化为整数并使用 APOC 数字格式进行格式化，这将添加一些逗号以提高可读性。\n",
    "- 让我们将其保存到结果中，看看我们是否可以提取句子，让我们读得更清楚。"
   ]
  },
  {
   "cell_type": "code",
   "execution_count": 31,
   "id": "37b91f15-2ea2-42f3-8847-04b9d7b07c07",
   "metadata": {
    "height": 234
   },
   "outputs": [
    {
     "data": {
      "text/plain": [
       "[{'text': 'CSS LLC/IL owns 12500 shares of NETAPP INC at a value of $955,000,000'},\n",
       " {'text': 'BOKF, NA owns 40774 shares of NETAPP INC at a value of $3,115,134,000'},\n",
       " {'text': 'BANK OF NOVA SCOTIA owns 18676 shares of NETAPP INC at a value of $1,426,847,000'},\n",
       " {'text': 'Jefferies Financial Group Inc. owns 23200 shares of NETAPP INC at a value of $1,772,480,000'},\n",
       " {'text': 'DEUTSCHE BANK AG\\\\ owns 929854 shares of NETAPP INC at a value of $71,040,845,000'},\n",
       " {'text': 'TORONTO DOMINION BANK owns 183163 shares of NETAPP INC at a value of $13,984,000'},\n",
       " {'text': 'STATE BOARD OF ADMINISTRATION OF FLORIDA RETIREMENT SYSTEM owns 265756 shares of NETAPP INC at a value of $20,303,759,000'},\n",
       " {'text': 'NISA INVESTMENT ADVISORS, LLC owns 67848 shares of NETAPP INC at a value of $5,183,587,000'},\n",
       " {'text': 'ONTARIO TEACHERS PENSION PLAN BOARD owns 7290 shares of NETAPP INC at a value of $556,956,000'},\n",
       " {'text': 'STATE STREET CORP owns 9321206 shares of NETAPP INC at a value of $712,140,138,000'}]"
      ]
     },
     "execution_count": 31,
     "metadata": {},
     "output_type": "execute_result"
    }
   ],
   "source": [
    "cypher = \"\"\"\n",
    "    MATCH (:Chunk {chunkId: $chunkIdParam})-[:PART_OF]->(f:Form),\n",
    "        (com:Company)-[:FILED]->(f),\n",
    "        (mgr:Manager)-[owns:OWNS_STOCK_IN]->(com)\n",
    "    RETURN mgr.managerName + \" owns \" + owns.shares + \n",
    "        \" shares of \" + com.companyName + \n",
    "        \" at a value of $\" + \n",
    "        apoc.number.format(toInteger(owns.value)) AS text\n",
    "    LIMIT 10\n",
    "    \"\"\"\n",
    "kg.query(cypher, params={\n",
    "    'chunkIdParam': ref_chunk_id\n",
    "})"
   ]
  },
  {
   "cell_type": "markdown",
   "id": "ff3dca14",
   "metadata": {},
   "source": [
    "- 看看我们创建的第一个句子，我们可以看到这个基金名为company，拥有大量NetApp股票，价值非常大。\n",
    "- 我们可以看到使用模式匹配并将这些模式的值转换为句子所能做的事情，让我们在 RAG 工作流中运用这一点。"
   ]
  },
  {
   "cell_type": "code",
   "execution_count": 32,
   "id": "6b097f06-8189-4a4a-ae62-05be79416433",
   "metadata": {
    "height": 81
   },
   "outputs": [
    {
     "name": "stdout",
     "output_type": "stream",
     "text": [
      "CSS LLC/IL owns 12500 shares of NETAPP INC at a value of\n",
      "$955,000,000\n"
     ]
    }
   ],
   "source": [
    "results = kg.query(cypher, params={\n",
    "    'chunkIdParam': ref_chunk_id\n",
    "})\n",
    "print(textwrap.fill(results[0]['text'], 60))"
   ]
  },
  {
   "cell_type": "markdown",
   "id": "e92ff2c7",
   "metadata": {},
   "source": [
    "## 4.3 RAG 工作流"
   ]
  },
  {
   "cell_type": "markdown",
   "id": "3bd06ddc",
   "metadata": {},
   "source": [
    "- 我们像之前一样设置两个不同的 LangChain 链。一个只是常规的向量检索，另一个将有一个检索查询以获取额外信息。我们将对一些问题进行测试。\n",
    "- 第一个链称为plain chain，这将是仅进行向量搜索的链。"
   ]
  },
  {
   "cell_type": "code",
   "execution_count": 33,
   "id": "91118de7-4e4a-43a8-894b-02bb3373f489",
   "metadata": {
    "height": 336
   },
   "outputs": [],
   "source": [
    "vector_store = Neo4jVector.from_existing_graph(\n",
    "    embedding=OpenAIEmbeddings(),\n",
    "    url=NEO4J_URI,\n",
    "    username=NEO4J_USERNAME,\n",
    "    password=NEO4J_PASSWORD,\n",
    "    index_name=VECTOR_INDEX_NAME,\n",
    "    node_label=VECTOR_NODE_LABEL,\n",
    "    text_node_properties=[VECTOR_SOURCE_PROPERTY],\n",
    "    embedding_node_property=VECTOR_EMBEDDING_PROPERTY,\n",
    ")\n",
    "# 从向量存储中创建一个检索器\n",
    "retriever = vector_store.as_retriever()\n",
    "\n",
    "# 从检索器中创建一个聊天机器人问答链\n",
    "plain_chain = RetrievalQAWithSourcesChain.from_chain_type(\n",
    "    ChatOpenAI(temperature=0), \n",
    "    chain_type=\"stuff\", \n",
    "    retriever=retriever\n",
    ")"
   ]
  },
  {
   "cell_type": "markdown",
   "id": "ea68b5b8",
   "metadata": {},
   "source": [
    "- 然后我们将定义一个 Cypher 查询，我们希望扩展向量搜索。所以我们将其称为投资检索查询。\n",
    "- 这种模式现在应该看起来很熟悉。从一个特定的节点开始，记住这将来自向量搜索。它将给我们一个找到的节点，该节点类似于提出的问题。我们将从那个节点开始，知道它是一个表格的一部分。\n",
    "- 从表格中，我们知道它是由某家公司提交的。有一个经理拥有那家公司的股票。箭头指向另一个方向，所以我们必须倒过来看这些。\n",
    "- 从原始节点，我们还将获取分数、经理、owns关系和公司。我们将根据投资股份降序排列所有这些，并仅限于10个。\n",
    "- 然后我们将基本上创建一个包含所有内容的巨大的文本，收集所有内容并将其放入一些语句中，然后将其添加到我们将从向量搜索中返回的文本中。"
   ]
  },
  {
   "cell_type": "code",
   "execution_count": 34,
   "id": "17067dee-df9e-4c9c-b2c8-b566aba4ccaf",
   "metadata": {
    "height": 353
   },
   "outputs": [],
   "source": [
    "investment_retrieval_query = \"\"\"\n",
    "MATCH (node)-[:PART_OF]->(f:Form),\n",
    "    (f)<-[:FILED]-(com:Company),\n",
    "    (com)<-[owns:OWNS_STOCK_IN]-(mgr:Manager)\n",
    "WITH node, score, mgr, owns, com \n",
    "    ORDER BY owns.shares DESC LIMIT 10\n",
    "WITH collect (\n",
    "    mgr.managerName + \n",
    "    \" owns \" + owns.shares + \n",
    "    \" shares in \" + com.companyName + \n",
    "    \" at a value of $\" + \n",
    "    apoc.number.format(toInteger(owns.value)) + \".\" \n",
    ") AS investment_statements, node, score\n",
    "RETURN apoc.text.join(investment_statements, \"\\n\") + \n",
    "    \"\\n\" + node.text AS text,\n",
    "    score,\n",
    "    { \n",
    "      source: node.source\n",
    "    } as metadata\n",
    "\"\"\""
   ]
  },
  {
   "cell_type": "markdown",
   "id": "3f28b4f8",
   "metadata": {},
   "source": [
    "- 像前面的课程一样，我们将创建一个新的向量存储，但现在使用扩展查询。\n",
    "- 这里的检索查询是我们刚刚定义的投资检索查询。\n",
    "- 我们将从中创建一个检索器，然后是一个链。我们称之为投资链。"
   ]
  },
  {
   "cell_type": "code",
   "execution_count": 35,
   "id": "fc9217cc-8014-43d6-97b2-63b4305e30bb",
   "metadata": {
    "height": 353
   },
   "outputs": [],
   "source": [
    "vector_store_with_investment = Neo4jVector.from_existing_index(\n",
    "    OpenAIEmbeddings(),\n",
    "    url=NEO4J_URI,\n",
    "    username=NEO4J_USERNAME,\n",
    "    password=NEO4J_PASSWORD,\n",
    "    database=\"neo4j\",\n",
    "    index_name=VECTOR_INDEX_NAME,\n",
    "    text_node_property=VECTOR_SOURCE_PROPERTY,\n",
    "    retrieval_query=investment_retrieval_query,\n",
    ")\n",
    "\n",
    "# 从向量存储中创建一个检索器\n",
    "retriever_with_investments = vector_store_with_investment.as_retriever()\n",
    "\n",
    "# 从检索器中创建一个聊天机器人问答链\n",
    "investment_chain = RetrievalQAWithSourcesChain.from_chain_type(\n",
    "    ChatOpenAI(temperature=0), \n",
    "    chain_type=\"stuff\", \n",
    "    retriever=retriever_with_investments\n",
    ")"
   ]
  },
  {
   "cell_type": "markdown",
   "id": "5f76e2e5-f3ea-4add-85b1-1cabc92819ef",
   "metadata": {},
   "source": [
    "- 现在，我们准备尝试几个不同的问题。让我们从一个显而易见的问题开始，因为我们知道这都是关于NetApp的。\n",
    "- 我们会问一个问题：用一句话告诉我关于NetApp的情况。我们将使用我们刚刚定义的plain chain，它只是进行向量搜索。我们先运行这个。\n",
    "- 我们可以看到这里，NetApp是一家全球领先的云公司。"
   ]
  },
  {
   "cell_type": "code",
   "execution_count": 36,
   "id": "671a54ec-f7e8-4072-b275-414e5d3c1e6e",
   "metadata": {
    "height": 30
   },
   "outputs": [],
   "source": [
    "question = \"In a single sentence, tell me about Netapp.\""
   ]
  },
  {
   "cell_type": "code",
   "execution_count": null,
   "id": "20b666a5",
   "metadata": {},
   "outputs": [],
   "source": [
    "question_zh = \"用一句话告诉我有关 Netapp 的信息。\""
   ]
  },
  {
   "cell_type": "code",
   "execution_count": 37,
   "id": "5d441aba-971d-4d71-9add-6e2321b40d2a",
   "metadata": {
    "height": 81
   },
   "outputs": [
    {
     "data": {
      "text/plain": [
       "{'answer': 'NetApp is a global cloud-led, data-centric software company that provides customers the freedom to manage applications and data across hybrid multicloud environments. \\n',\n",
       " 'sources': 'https://www.sec.gov/Archives/edgar/data/1002047/000095017023027948/0000950170-23-027948-index.htm'}"
      ]
     },
     "execution_count": 37,
     "metadata": {},
     "output_type": "execute_result"
    }
   ],
   "source": [
    "plain_chain(\n",
    "    {\"question\": question},\n",
    "    return_only_outputs=True,\n",
    ")"
   ]
  },
  {
   "cell_type": "markdown",
   "id": "9d44287c",
   "metadata": {},
   "source": [
    "- 让我们用投资链尝试同样的事情。看看那个额外的上下文是否会改变对NetApp的总结。\n",
    "- 这实际上看起来很相似，这并不意外。LLM忽略了关于投资的额外信息，因为我们并没有真的问到这点。"
   ]
  },
  {
   "cell_type": "code",
   "execution_count": 38,
   "id": "72816577-b60e-4368-9c8f-7ba54866d79b",
   "metadata": {
    "height": 81
   },
   "outputs": [
    {
     "data": {
      "text/plain": [
       "{'answer': 'NetApp is a global cloud-led, data-centric software company that focuses on enterprise storage and data management, cloud storage, and cloud operations markets, providing customers with the freedom to manage applications and data across hybrid multicloud environments. \\n',\n",
       " 'sources': 'https://www.sec.gov/Archives/edgar/data/1002047/000095017023027948/0000950170-23-027948-index.htm'}"
      ]
     },
     "execution_count": 38,
     "metadata": {},
     "output_type": "execute_result"
    }
   ],
   "source": [
    "investment_chain(\n",
    "    {\"question\": question},\n",
    "    return_only_outputs=True,\n",
    ")"
   ]
  },
  {
   "cell_type": "markdown",
   "id": "a29ea42c-9aef-44aa-b1e2-37edce12aad2",
   "metadata": {},
   "source": [
    "如果我们确实问到投资者呢？"
   ]
  },
  {
   "cell_type": "code",
   "execution_count": 39,
   "id": "106dfca9-869d-4f55-8d23-1090c496bf92",
   "metadata": {
    "height": 30
   },
   "outputs": [],
   "source": [
    "question = \"In a single sentence, tell me about Netapp investors.\""
   ]
  },
  {
   "cell_type": "code",
   "execution_count": null,
   "id": "8cb78c29",
   "metadata": {},
   "outputs": [],
   "source": [
    "question_zh = \"用一句话告诉我有关 Netapp 投资者的信息。\""
   ]
  },
  {
   "cell_type": "markdown",
   "id": "75ef7ddc",
   "metadata": {},
   "source": [
    "- 我们将先从plain chain开始。这只会进行向量搜索，看看我们得到什么答案。\n",
    "- 它认为投资者是一个多元化的客户基础。它只是试图将事情拼凑在一起，试图给出某种答案。"
   ]
  },
  {
   "cell_type": "code",
   "execution_count": 40,
   "id": "b5e286f5-b6ec-44a7-8f55-4f35771fbfaa",
   "metadata": {
    "height": 81
   },
   "outputs": [
    {
     "data": {
      "text/plain": [
       "{'answer': 'Netapp investors are diverse and include global enterprises, local businesses, and government installations who look to NetApp and its ecosystem of partners to maximize the business value of their IT and cloud investments.\\n',\n",
       " 'sources': 'https://www.sec.gov/Archives/edgar/data/1002047/000095017023027948/0000950170-23-027948-index.htm'}"
      ]
     },
     "execution_count": 40,
     "metadata": {},
     "output_type": "execute_result"
    }
   ],
   "source": [
    "plain_chain(\n",
    "    {\"question\": question},\n",
    "    return_only_outputs=True,\n",
    ")"
   ]
  },
  {
   "cell_type": "markdown",
   "id": "440aef12",
   "metadata": {},
   "source": [
    "- 所以现在我们用投资链问同样的问题，看看我们得到什么答案。\n",
    "- 这更现实一点。现在我们可以看到投资者包括 Vanguard 集团，一些财务主管，剑桥投资。"
   ]
  },
  {
   "cell_type": "code",
   "execution_count": 41,
   "id": "b50849ac-d68a-410c-afda-3613dd195a19",
   "metadata": {
    "height": 81
   },
   "outputs": [
    {
     "data": {
      "text/plain": [
       "{'answer': 'Netapp investors include Vanguard Group Inc., BlackRock Inc., and PRIMECAP MANAGEMENT CO/CA/.\\n',\n",
       " 'sources': 'https://www.sec.gov/Archives/edgar/data/1002047/000095017023027948/0000950170-23-027948-index.htm'}"
      ]
     },
     "execution_count": 41,
     "metadata": {},
     "output_type": "execute_result"
    }
   ],
   "source": [
    "investment_chain(\n",
    "    {\"question\": question},\n",
    "    return_only_outputs=True,\n",
    ")"
   ]
  },
  {
   "cell_type": "markdown",
   "id": "78ad53f6",
   "metadata": {},
   "source": [
    "这实际上是一个很好的开始。我们可以更改几件不同的事情。\n",
    "- 我们可以更改我们从投资中创建的句子，看看这如何影响我们得到的内容。\n",
    "- 改变我们在最后问的问题，看看不同的提示如何调整我们从LLM中得到的内容。\n",
    "\n",
    "在让LLM理解我们提供的信息以及这些信息与可以回答的问题之间的关系上，还有一些艺术性。"
   ]
  }
 ],
 "metadata": {
  "kernelspec": {
   "display_name": "Python 3 (ipykernel)",
   "language": "python",
   "name": "python3"
  },
  "language_info": {
   "codemirror_mode": {
    "name": "ipython",
    "version": 3
   },
   "file_extension": ".py",
   "mimetype": "text/x-python",
   "name": "python",
   "nbconvert_exporter": "python",
   "pygments_lexer": "ipython3",
   "version": "3.12.3"
  }
 },
 "nbformat": 4,
 "nbformat_minor": 5
}
