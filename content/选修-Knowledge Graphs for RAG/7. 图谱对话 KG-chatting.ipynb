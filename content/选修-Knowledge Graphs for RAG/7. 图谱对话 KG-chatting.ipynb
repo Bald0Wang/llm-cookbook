{
 "cells": [
  {
   "cell_type": "markdown",
   "id": "accc805b-b661-441c-b1f8-6dd0a933a762",
   "metadata": {},
   "source": [
    "# 第七章: SEC知识图谱对话"
   ]
  },
  {
   "cell_type": "markdown",
   "id": "5dda987a",
   "metadata": {},
   "source": [
    "- 在本章中，我们将对知识图谱进行更多的探索。\n",
    "- 首先，通过一些 Cypher 查询直接探索图，然后使用 LangChain 创建一个问答聊天。最后，我们将使用LLM结合这两种技术，以一种有趣的新方式进行操作。"
   ]
  },
  {
   "cell_type": "markdown",
   "id": "df609551",
   "metadata": {},
   "source": [
    "像往常一样，我们将从导入一些库开始，并定义一些将在查询中使用的全局变量。"
   ]
  },
  {
   "cell_type": "markdown",
   "id": "cbd86fa9",
   "metadata": {},
   "source": [
    "# 一、环境配置\n",
    "\n",
    "本教程使用 OpenAI 所开放的 ChatGPT API，因此您需要首先拥有一个 ChatGPT 的 API_KEY（也可以直接访问官方网址在线测试），然后需要安装 OpenAI 的第三方库。为了兼顾简便与兼容性，本教程将介绍在 ```Python 3``` 环境中基于 ```openai.api_key``` 方法的配置。另有基于环境变量的配置方法，详情请参考 [OpenAI 官方文档](https://help.openai.com/en/articles/5112595-best-practices-for-api-key-safety)。"
   ]
  },
  {
   "cell_type": "markdown",
   "id": "89f1ac0d",
   "metadata": {},
   "source": [
    "首先需要安装 OpenAI，LangChain等工具库：\n",
    "```bash\n",
    "pip install openai langchain langchain_community langchain_openai\n",
    "```"
   ]
  },
  {
   "cell_type": "markdown",
   "id": "4cb62fa7",
   "metadata": {},
   "source": [
    "## 1.1 导入第三方库"
   ]
  },
  {
   "cell_type": "code",
   "execution_count": null,
   "id": "8eb62a2b",
   "metadata": {},
   "outputs": [],
   "source": [
    "import os\n",
    "import textwrap\n",
    "\n",
    "# OpenAI\n",
    "import openai\n",
    "\n",
    "# Langchain\n",
    "from langchain_community.graphs import Neo4jGraph\n",
    "from langchain_community.vectorstores import Neo4jVector\n",
    "from langchain_openai import OpenAIEmbeddings\n",
    "from langchain.text_splitter import RecursiveCharacterTextSplitter\n",
    "from langchain.chains import RetrievalQAWithSourcesChain\n",
    "from langchain_openai import ChatOpenAI\n",
    "\n",
    "# Warning control\n",
    "import warnings\n",
    "warnings.filterwarnings(\"ignore\")"
   ]
  },
  {
   "cell_type": "markdown",
   "id": "c98b7edf",
   "metadata": {},
   "source": [
    "## 1.2 设置环境变量"
   ]
  },
  {
   "cell_type": "code",
   "execution_count": null,
   "id": "5f2cd70c",
   "metadata": {},
   "outputs": [],
   "source": [
    "# 设置 API_KEY, 请替换成您自己的 API_KEY\n",
    "openai.api_key = \"sk-...\"\n",
    "\n",
    "# 设置 Neo4j, 请替换成您自己的 Neo4j_XXX\n",
    "NEO4J_URI = \"\"\n",
    "NEO4J_USERNAME = \"\"\n",
    "NEO4J_PASSWORD = \"\"\n",
    "NEO4J_DATABASE = 'neo4j'\n",
    "\n",
    "# Global constants\n",
    "VECTOR_INDEX_NAME = 'form_10k_chunks'\n",
    "VECTOR_NODE_LABEL = 'Chunk'\n",
    "VECTOR_SOURCE_PROPERTY = 'text'\n",
    "VECTOR_EMBEDDING_PROPERTY = 'textEmbedding'"
   ]
  },
  {
   "cell_type": "code",
   "execution_count": 3,
   "id": "4cf9637c-76f9-4d52-894b-4f01233055d5",
   "metadata": {
    "height": 79
   },
   "outputs": [],
   "source": [
    "# 创建知识图谱\n",
    "kg = Neo4jGraph(\n",
    "    url=NEO4J_URI, \n",
    "    username=NEO4J_USERNAME, \n",
    "    password=NEO4J_PASSWORD, \n",
    "    database=NEO4J_DATABASE\n",
    ")"
   ]
  },
  {
   "cell_type": "markdown",
   "id": "421070a2",
   "metadata": {},
   "source": [
    "# 二、探索更新后的 SEC 文档图谱\n",
    "- 下面的一些输出可能与视频略有不同"
   ]
  },
  {
   "cell_type": "markdown",
   "id": "45f3df68",
   "metadata": {},
   "source": [
    "## 2.1 检查图谱模式"
   ]
  },
  {
   "cell_type": "code",
   "execution_count": 4,
   "id": "48dfcba0-9d4c-49c3-87b8-9b9fb4b96c67",
   "metadata": {
    "height": 47
   },
   "outputs": [
    {
     "name": "stdout",
     "output_type": "stream",
     "text": [
      "Node properties are the following: Chunk {textEmbedding:\n",
      "LIST, f10kItem: STRING, chunkSeqId: INTEGER, text: STRING,\n",
      "cik: STRING, cusip6: STRING, names: LIST, formId: STRING,\n",
      "source: STRING, chunkId: STRING},Form {cusip6: STRING,\n",
      "names: LIST, formId: STRING, source: STRING},Company\n",
      "{location: POINT, cusip: STRING, names: LIST,\n",
      "companyAddress: STRING, companyName: STRING, cusip6:\n",
      "STRING},Manager {location: POINT, managerName: STRING,\n",
      "managerCik: STRING, managerAddress: STRING},Address\n",
      "{location: POINT, country: STRING, city: STRING, state:\n",
      "STRING} Relationship properties are the following: SECTION\n",
      "{f10kItem: STRING},OWNS_STOCK_IN {shares: INTEGER,\n",
      "reportCalendarOrQuarter: STRING, value: FLOAT} The\n",
      "relationships are the following: (:Chunk)-[:NEXT]-\n",
      ">(:Chunk),(:Chunk)-[:PART_OF]->(:Form),(:Form)-[:SECTION]-\n",
      ">(:Chunk),(:Company)-[:FILED]->(:Form),(:Company)-\n",
      "[:LOCATED_AT]->(:Address),(:Manager)-[:LOCATED_AT]-\n",
      ">(:Address),(:Manager)-[:OWNS_STOCK_IN]->(:Company)\n"
     ]
    }
   ],
   "source": [
    "kg.refresh_schema()\n",
    "print(textwrap.fill(kg.schema, 60))"
   ]
  },
  {
   "cell_type": "markdown",
   "id": "788bf410",
   "metadata": {},
   "source": [
    "## 2.2 查询经理和地址"
   ]
  },
  {
   "cell_type": "markdown",
   "id": "37537081",
   "metadata": {},
   "source": [
    "- 我们首先随机找到一个经理，然后返回经理和地址，并将其限制为一个。\n",
    "- 我们找到了 LAKEWOOD，她在纽约市的 Capital Management。\n",
    "- 注意这里我们不仅向地址节点添加了城市和州，还添加了一个称为位置的东西，其中存储了一个点。这只是存储为数据值的经纬度。这使我们可以进行地理空间搜索和接近搜索。\n",
    "- 注意：以下查询返回的公司可能与视频中的公司不同"
   ]
  },
  {
   "cell_type": "code",
   "execution_count": 5,
   "id": "6c50f182-f654-4684-b8e7-8cd6f1db1668",
   "metadata": {
    "height": 98
   },
   "outputs": [
    {
     "data": {
      "text/plain": [
       "[{'mgr': {'managerCik': '1424381',\n",
       "   'managerAddress': '650 Madison Avenue, 25th Floor, New York, NY, 10022',\n",
       "   'location': POINT(-73.9713457 40.7639879),\n",
       "   'managerName': 'LAKEWOOD CAPITAL MANAGEMENT, LP'},\n",
       "  'addr': {'country': 'United States',\n",
       "   'city': 'New York',\n",
       "   'location': POINT(-73.9821429 40.7584882),\n",
       "   'state': 'New York'}}]"
      ]
     },
     "execution_count": 5,
     "metadata": {},
     "output_type": "execute_result"
    }
   ],
   "source": [
    "kg.query(\"\"\"\n",
    "MATCH (mgr:Manager)-[:LOCATED_AT]->(addr:Address)\n",
    "RETURN mgr, addr\n",
    "LIMIT 1\n",
    "\"\"\")"
   ]
  },
  {
   "cell_type": "markdown",
   "id": "36877ab6-7d35-4da0-9934-a45b8f76a770",
   "metadata": {},
   "source": [
    "- 这只是一个随机的经理。如果我们想在数据集中找到特定的人物，比如\"royal bank\"，我们可以进行文本搜索并返回那个经理。\n",
    "- 很好，我们找到了经理名称，实际上是加拿大皇家银行。\n",
    "- 注意我们还得到了一个分数，这是进行全文搜索时的得分，其值范围与向量搜索不同，但原理相同。较高的分数表示更好的匹配。"
   ]
  },
  {
   "cell_type": "code",
   "execution_count": 6,
   "id": "bd26162c-10f8-4cfe-bc47-a63b1f169fd2",
   "metadata": {
    "height": 115
   },
   "outputs": [
    {
     "data": {
      "text/plain": [
       "[{'node.managerName': 'Royal Bank of Canada', 'score': 4.431276321411133}]"
      ]
     },
     "execution_count": 6,
     "metadata": {},
     "output_type": "execute_result"
    }
   ],
   "source": [
    "kg.query(\"\"\"\n",
    "  CALL db.index.fulltext.queryNodes(\n",
    "         \"fullTextManagerNames\", \n",
    "         \"royal bank\") YIELD node, score\n",
    "  RETURN node.managerName, score LIMIT 1\n",
    "\"\"\")"
   ]
  },
  {
   "cell_type": "markdown",
   "id": "f63bec5c",
   "metadata": {},
   "source": [
    "- 我们可以将这两个查询结合起来，首先找到皇家银行，然后找到他们的位置。\n",
    "- 首先，使用全文搜索找到银行，然后从该经理所在的位置找到地址并返回这些值。毫无意外，加拿大皇家银行在加拿大。"
   ]
  },
  {
   "cell_type": "code",
   "execution_count": 7,
   "id": "fea0438a-e0bd-4a5a-8e74-7b7a923718b5",
   "metadata": {
    "height": 166
   },
   "outputs": [
    {
     "data": {
      "text/plain": [
       "[{'mgr.managerName': 'Royal Bank of Canada',\n",
       "  'addr': {'country': 'Canada',\n",
       "   'city': 'Toronto',\n",
       "   'location': POINT(-79.3805647 43.6508267),\n",
       "   'state': 'Ontario'}}]"
      ]
     },
     "execution_count": 7,
     "metadata": {},
     "output_type": "execute_result"
    }
   ],
   "source": [
    "kg.query(\"\"\"\n",
    "CALL db.index.fulltext.queryNodes(\n",
    "         \"fullTextManagerNames\", \n",
    "         \"royal bank\"\n",
    "  ) YIELD node, score\n",
    "WITH node as mgr LIMIT 1\n",
    "MATCH (mgr:Manager)-[:LOCATED_AT]->(addr:Address)\n",
    "RETURN mgr.managerName, addr\n",
    "\"\"\")"
   ]
  },
  {
   "cell_type": "markdown",
   "id": "cb75fa2f",
   "metadata": {},
   "source": [
    "## 2.3 哪个州拥有最多的投资公司"
   ]
  },
  {
   "cell_type": "markdown",
   "id": "5a2d0f56-0131-4e07-b2c1-e2ecb0075aa5",
   "metadata": {},
   "source": [
    "- 我们可以继续进行更多的探索，看看我们知道哪些信息。例如，我们可以问哪个州拥有最多的投资公司。\n",
    "- 我们首先匹配一个位于某个地址的经理，然后返回包括该州名称的结果，并通过聚合进行计数，计算出该州出现的次数，称之为经理数量，并将其返回，限制为前10名经理所在的州。"
   ]
  },
  {
   "cell_type": "code",
   "execution_count": 8,
   "id": "b0840ff4-c451-4e40-a4fc-18642d452afb",
   "metadata": {
    "height": 115
   },
   "outputs": [
    {
     "data": {
      "text/plain": [
       "[{'state': 'New York', 'numManagers': 304},\n",
       " {'state': 'California', 'numManagers': 302},\n",
       " {'state': 'Massachusetts', 'numManagers': 146},\n",
       " {'state': 'Pennsylvania', 'numManagers': 138},\n",
       " {'state': 'Texas', 'numManagers': 125},\n",
       " {'state': 'Illinois', 'numManagers': 121},\n",
       " {'state': 'Florida', 'numManagers': 115},\n",
       " {'state': 'Connecticut', 'numManagers': 77},\n",
       " {'state': 'Ohio', 'numManagers': 76},\n",
       " {'state': 'New Jersey', 'numManagers': 69}]"
      ]
     },
     "execution_count": 8,
     "metadata": {},
     "output_type": "execute_result"
    }
   ],
   "source": [
    "kg.query(\"\"\"\n",
    "  MATCH p=(:Manager)-[:LOCATED_AT]->(address:Address)\n",
    "  RETURN address.state as state, count(address.state) as numManagers\n",
    "    ORDER BY numManagers DESC\n",
    "    LIMIT 10\n",
    "\"\"\")"
   ]
  },
  {
   "cell_type": "markdown",
   "id": "db5f54b0",
   "metadata": {},
   "source": [
    "- 我们看到很多人在纽约，很多管理公司在加利福尼亚州，还有一些在其他州。"
   ]
  },
  {
   "cell_type": "markdown",
   "id": "afc8fd43",
   "metadata": {},
   "source": [
    "## 2.4 哪个州拥有最多的公司"
   ]
  },
  {
   "cell_type": "markdown",
   "id": "325c5b82",
   "metadata": {},
   "source": [
    "- 我们可以问同样的问题，但这次是关于上市公司。\n",
    "- 我们首先写出从公司到地址的模式匹配，列出地址所在的州，然后对地址州进行聚合，并将其作为公司的数量。"
   ]
  },
  {
   "cell_type": "code",
   "execution_count": 9,
   "id": "8696d17b-7f0d-4f67-b3e8-34c8dc04cb3e",
   "metadata": {
    "height": 98
   },
   "outputs": [
    {
     "data": {
      "text/plain": [
       "[{'state': 'California', 'numCompanies': 7},\n",
       " {'state': 'Delaware', 'numCompanies': 1},\n",
       " {'state': 'New York', 'numCompanies': 1},\n",
       " {'state': 'Oregon', 'numCompanies': 1}]"
      ]
     },
     "execution_count": 9,
     "metadata": {},
     "output_type": "execute_result"
    }
   ],
   "source": [
    "kg.query(\"\"\"\n",
    "  MATCH p=(:Company)-[:LOCATED_AT]->(address:Address)\n",
    "  RETURN address.state as state, count(address.state) as numCompanies\n",
    "    ORDER BY numCompanies DESC\n",
    "\"\"\")"
   ]
  },
  {
   "cell_type": "markdown",
   "id": "1ac396db",
   "metadata": {},
   "source": [
    "- 好的，看起来在管理投资公司和公司之间，至少在这个样本数据集中，大多数都在加利福尼亚州。"
   ]
  },
  {
   "cell_type": "markdown",
   "id": "40d58bd1",
   "metadata": {},
   "source": [
    "## 2.5 加州哪些城市拥有最多的投资公司"
   ]
  },
  {
   "cell_type": "markdown",
   "id": "b79728e0",
   "metadata": {},
   "source": [
    "- 让我们进一步深入加利福尼亚。我们可能会问到：加利福尼亚哪些城市拥有最多的投资公司？\n",
    "- 我们可以继续采用相同的方法，从位于某个地址的经理的模式匹配开始，然后我们将地址限制在加利福尼亚州。按照相同的想法，返回城市名称，计算城市出现的次数，并返回前10个。"
   ]
  },
  {
   "cell_type": "code",
   "execution_count": 10,
   "id": "8343409c-8e93-4463-9499-94d0c27aa73e",
   "metadata": {
    "height": 132
   },
   "outputs": [
    {
     "data": {
      "text/plain": [
       "[{'city': 'San Francisco', 'numManagers': 48},\n",
       " {'city': 'Los Angeles', 'numManagers': 44},\n",
       " {'city': 'San Diego', 'numManagers': 17},\n",
       " {'city': 'Pasadena', 'numManagers': 13},\n",
       " {'city': 'Menlo Park', 'numManagers': 9},\n",
       " {'city': 'Newport Beach', 'numManagers': 9},\n",
       " {'city': 'Irvine', 'numManagers': 9},\n",
       " {'city': 'Walnut Creek', 'numManagers': 8},\n",
       " {'city': 'Palo Alto', 'numManagers': 6},\n",
       " {'city': 'Lafayette', 'numManagers': 6}]"
      ]
     },
     "execution_count": 10,
     "metadata": {},
     "output_type": "execute_result"
    }
   ],
   "source": [
    "kg.query(\"\"\"\n",
    "  MATCH p=(:Manager)-[:LOCATED_AT]->(address:Address)\n",
    "         WHERE address.state = 'California'\n",
    "  RETURN address.city as city, count(address.city) as numManagers\n",
    "    ORDER BY numManagers DESC\n",
    "    LIMIT 10\n",
    "\"\"\")"
   ]
  },
  {
   "cell_type": "markdown",
   "id": "3092559a",
   "metadata": {},
   "source": [
    "- 我们可以看到，这里有一些北加州和南加州的竞争。北部和南部都很密集，其他地方则混合分布。"
   ]
  },
  {
   "cell_type": "markdown",
   "id": "c8daa4f9",
   "metadata": {},
   "source": [
    "## 2.6 加州哪个城市拥有最多的上市公司"
   ]
  },
  {
   "cell_type": "markdown",
   "id": "7d802c40",
   "metadata": {},
   "source": [
    "- 现在我们对公司问同样的问题，加利福尼亚的哪些城市有最多的公司？"
   ]
  },
  {
   "cell_type": "code",
   "execution_count": 11,
   "id": "1a978b52-a0e2-4ace-8002-b4e92fc6f7a5",
   "metadata": {
    "height": 115
   },
   "outputs": [
    {
     "data": {
      "text/plain": [
       "[{'city': 'Santa Clara', 'numCompanies': 3},\n",
       " {'city': 'San Jose', 'numCompanies': 2},\n",
       " {'city': 'Sunnyvale', 'numCompanies': 1},\n",
       " {'city': 'Cupertino', 'numCompanies': 1}]"
      ]
     },
     "execution_count": 11,
     "metadata": {},
     "output_type": "execute_result"
    }
   ],
   "source": [
    "kg.query(\"\"\"\n",
    "  MATCH p=(:Company)-[:LOCATED_AT]->(address:Address)\n",
    "         WHERE address.state = 'California'\n",
    "  RETURN address.city as city, count(address.city) as numCompanies\n",
    "    ORDER BY numCompanies DESC\n",
    "\"\"\")"
   ]
  },
  {
   "cell_type": "markdown",
   "id": "314dc6ee",
   "metadata": {},
   "source": [
    "- 这次是一个非常不同的结果。\n",
    "- 我们知道这个样本数据集中只有10家公司，它们在圣克拉拉、圣何塞、桑尼维尔和库比蒂诺。看起来上市公司和经理在完全不同的城市。"
   ]
  },
  {
   "cell_type": "markdown",
   "id": "e377e9ea-824e-4a98-a6ae-fdcd8f8f740d",
   "metadata": {},
   "source": [
    "## 2.7 旧金山的顶级投资公司有哪些"
   ]
  },
  {
   "cell_type": "markdown",
   "id": "9b935ad8",
   "metadata": {},
   "source": [
    "- 我们注意有很多投资公司在旧金山。我们现在可以深入探讨旧金山，看看在旧金山有哪些顶级管理公司。\n",
    "- 这与之前的模式相同，对于位于某个地址的经理。所以我们会说城市必须是旧金山。\n",
    "- 除了经理名称外，还有该公司投资的内容，将所有这些关系的值属性相加，称之为总投资价值。然后返回，限制为前10名，按降序排列。"
   ]
  },
  {
   "cell_type": "code",
   "execution_count": 12,
   "id": "bf979e5f-2e46-46f2-a0a0-4cfb011b3640",
   "metadata": {
    "height": 149
   },
   "outputs": [
    {
     "data": {
      "text/plain": [
       "[{'mgr.managerName': 'Dodge & Cox', 'totalInvestmentValue': 3889236092000.0},\n",
       " {'mgr.managerName': 'WELLS FARGO & COMPANY/MN',\n",
       "  'totalInvestmentValue': 2177580039000.0},\n",
       " {'mgr.managerName': 'CHARLES SCHWAB INVESTMENT MANAGEMENT INC',\n",
       "  'totalInvestmentValue': 1944847519000.0},\n",
       " {'mgr.managerName': 'Parallax Volatility Advisers, L.P.',\n",
       "  'totalInvestmentValue': 694023723000.0},\n",
       " {'mgr.managerName': 'PARNASSUS INVESTMENTS, LLC',\n",
       "  'totalInvestmentValue': 211068925000.0},\n",
       " {'mgr.managerName': 'Spyglass Capital Management LLC',\n",
       "  'totalInvestmentValue': 98135259000.0},\n",
       " {'mgr.managerName': 'Valiant Capital Management, L.P.',\n",
       "  'totalInvestmentValue': 52124040000.0},\n",
       " {'mgr.managerName': 'Ensemble Capital Management, LLC',\n",
       "  'totalInvestmentValue': 42355370000.0},\n",
       " {'mgr.managerName': 'Woodline Partners LP',\n",
       "  'totalInvestmentValue': 41497384000.0},\n",
       " {'mgr.managerName': 'Alta Park Capital, LP',\n",
       "  'totalInvestmentValue': 38959909000.0}]"
      ]
     },
     "execution_count": 12,
     "metadata": {},
     "output_type": "execute_result"
    }
   ],
   "source": [
    "kg.query(\"\"\"\n",
    "  MATCH p=(mgr:Manager)-[:LOCATED_AT]->(address:Address),\n",
    "         (mgr)-[owns:OWNS_STOCK_IN]->(:Company)\n",
    "         WHERE address.city = \"San Francisco\"\n",
    "  RETURN mgr.managerName, sum(owns.value) as totalInvestmentValue\n",
    "    ORDER BY totalInvestmentValue DESC\n",
    "    LIMIT 10\n",
    "\"\"\")"
   ]
  },
  {
   "cell_type": "markdown",
   "id": "4bee7e5e",
   "metadata": {},
   "source": [
    "- 这是旧金山的顶级投资公司名单，我们可能会认出其中一些名字。"
   ]
  },
  {
   "cell_type": "markdown",
   "id": "d723b3a2-25db-497c-ac23-b4ffb0afc657",
   "metadata": {},
   "source": [
    "## 2.8 圣克拉拉有哪些公司"
   ]
  },
  {
   "cell_type": "markdown",
   "id": "a23bd63e",
   "metadata": {},
   "source": [
    "- 回到公司名单，在这个样本集中，大多数在圣克拉拉，让我们找出这些公司是谁。\n",
    "- 这很简单。我们将从公司开始，它们位于某个地址，地址城市是圣克拉拉。"
   ]
  },
  {
   "cell_type": "code",
   "execution_count": 13,
   "id": "6b32ef15-05c6-43fb-a34a-536dfdfd8c07",
   "metadata": {
    "height": 98
   },
   "outputs": [
    {
     "data": {
      "text/plain": [
       "[{'com.companyName': 'PALO ALTO NETWORKS INC'},\n",
       " {'com.companyName': 'SEAGATE TECHNOLOGY'},\n",
       " {'com.companyName': 'ATLASSIAN CORP PLC'}]"
      ]
     },
     "execution_count": 13,
     "metadata": {},
     "output_type": "execute_result"
    }
   ],
   "source": [
    "kg.query(\"\"\"\n",
    "  MATCH (com:Company)-[:LOCATED_AT]->(address:Address)\n",
    "         WHERE address.city = \"Santa Clara\"\n",
    "  RETURN com.companyName\n",
    "\"\"\")"
   ]
  },
  {
   "cell_type": "markdown",
   "id": "ab8a1379-d7c3-46a7-b730-13e1cc913027",
   "metadata": {},
   "source": [
    "## 2.9 圣克拉拉附近有什么公司"
   ]
  },
  {
   "cell_type": "markdown",
   "id": "13ba8e4f",
   "metadata": {},
   "source": [
    "- 到目前为止，我们一直在使用显式关系探索图谱。\n",
    "- 我们还可以基于它们的位置坐标查找内容。记住，我们添加了一个地理空间索引。这变得非常有趣。这有点像在二维空间中进行向量搜索，但是使用笛卡尔距离而不是余弦相似度。\n",
    "- 我们可以问哪些公司在圣克拉拉附近，这类似于哪些公司在圣克拉拉，但我们不希望它们在圣克拉拉，而是在附近。\n",
    "- 我们如何处理这个问题呢？首先，我们匹配一个地址，称为 sc，我们希望 sc 的城市是圣克拉拉，然后我们希望公司位于某个公司地址。\n",
    "- WHERE子句说明使用point.distance，这是一个内置在Cypher中的距离函数，point.distance从两个不同的位置，sc位置（即圣克拉拉的位置），然后是任何公司地址的位置（这家公司的位置）。\n",
    "- 我们希望它少于10,000，这是10,000米。所有的距离都以米为单位。符合条件的，我们将返回公司名称和公司节点中列出的完整地址。"
   ]
  },
  {
   "cell_type": "code",
   "execution_count": 14,
   "id": "61d92aea-e612-411c-8935-4087ce4a7247",
   "metadata": {
    "height": 132
   },
   "outputs": [
    {
     "data": {
      "text/plain": [
       "[{'com.companyName': 'PALO ALTO NETWORKS INC',\n",
       "  'com.companyAddress': '3000 Tannery Way, Santa Clara, CA 95054, USA'},\n",
       " {'com.companyName': 'GSI TECHNOLOGY INC',\n",
       "  'com.companyAddress': '1213 Elko Dr, Sunnyvale, CA 94089, USA'},\n",
       " {'com.companyName': 'SEAGATE TECHNOLOGY',\n",
       "  'com.companyAddress': '2445 Augustine Dr, Santa Clara, CA 95054, USA'},\n",
       " {'com.companyName': 'ATLASSIAN CORP PLC',\n",
       "  'com.companyAddress': '431 El Camino Real, Santa Clara, CA 95050, USA'},\n",
       " {'com.companyName': 'APPLE INC', 'com.companyAddress': 'Cupertino, CA, USA'}]"
      ]
     },
     "execution_count": 14,
     "metadata": {},
     "output_type": "execute_result"
    }
   ],
   "source": [
    "kg.query(\"\"\"\n",
    "  MATCH (sc:Address)\n",
    "    WHERE sc.city = \"Santa Clara\"\n",
    "  MATCH (com:Company)-[:LOCATED_AT]->(comAddr:Address)\n",
    "    WHERE point.distance(sc.location, comAddr.location) < 10000\n",
    "  RETURN com.companyName, com.companyAddress\n",
    "\"\"\")"
   ]
  },
  {
   "cell_type": "markdown",
   "id": "2791f0ac",
   "metadata": {},
   "source": [
    "- 我们可以看到Palo Alto Networks位于圣克拉拉，当然在圣克拉拉附近。\n",
    "- 我们还可以看到桑尼维尔，圣克拉拉再次出现，然后库比蒂诺的苹果公司出现了。\n",
    "- 所以现在我们有两种不同的方式。要么我们确切知道我们想要什么，比如圣克拉拉附近的人，或者离圣克拉拉近的东西，那就是一个距离函数。\n",
    "- 回想一下更新的模式，我们有这些新节点标记为地址。这些地址节点只有城市、州和国家。公司和管理公司通过一个位于关系连接到这些地址。"
   ]
  },
  {
   "cell_type": "markdown",
   "id": "68342a9c",
   "metadata": {},
   "source": [
    "## 2.10 圣克拉拉附近有哪些投资公司"
   ]
  },
  {
   "cell_type": "markdown",
   "id": "2fb016e6",
   "metadata": {},
   "source": [
    "- 当然，我们可以对管理公司提出相同的问题。我们将这些结果留在这里，尝试相同的查询。\n",
    "- 我们将匹配地址，然后对于地址是圣克拉拉，匹配一个位于某个地址的经理，然后进行point.distance计算。同样限制在10,000米以内。- 看来附近只有一家管理公司，他们在加利福尼亚州坎贝尔。"
   ]
  },
  {
   "cell_type": "code",
   "execution_count": 15,
   "id": "39f9dcb2-710c-429e-bdc6-5090a2ccb464",
   "metadata": {
    "height": 149
   },
   "outputs": [
    {
     "data": {
      "text/plain": [
       "[{'mgr.managerName': 'Mine & Arao Wealth Creation & Management, LLC.',\n",
       "  'mgr.managerAddress': '901 CAMPISI WAY, SUITE 140, CAMPBELL, CA, 95008'}]"
      ]
     },
     "execution_count": 15,
     "metadata": {},
     "output_type": "execute_result"
    }
   ],
   "source": [
    "kg.query(\"\"\"\n",
    "  MATCH (address:Address)\n",
    "    WHERE address.city = \"Santa Clara\"\n",
    "  MATCH (mgr:Manager)-[:LOCATED_AT]->(managerAddress:Address)\n",
    "    WHERE point.distance(address.location, \n",
    "        managerAddress.location) < 10000\n",
    "  RETURN mgr.managerName, mgr.managerAddress\n",
    "\"\"\")"
   ]
  },
  {
   "cell_type": "markdown",
   "id": "d7ba1094",
   "metadata": {},
   "source": [
    "- 我们可以尝试扩大范围，看看我们能找到什么？\n",
    "- 结果和预期一样，范围越大，我们找到的管理公司越多。"
   ]
  },
  {
   "cell_type": "markdown",
   "id": "ae96ce5f-81fd-4465-9ad1-309154de3fe2",
   "metadata": {},
   "source": [
    "## 2.11 Palo Alto Networks 附近有哪些投资公司"
   ]
  },
  {
   "cell_type": "markdown",
   "id": "07f4459a",
   "metadata": {},
   "source": [
    "- 我们可以像之前一样，将这些单独的查询结合起来，做更有趣的事情。例如，我们可以问，不是某个位置附近的投资公司，而是某个我们知道的公司附近的投资公司。我们可能记得看到Palo Alto Networks。\n",
    "- 即使我拼错了名字，也没关系。我们会运行一个查询，即使有拼写错误，找到公司，然后找到该公司附近的管理公司。\n",
    "- 我们从全文查询开始。我们将通过公司名称进行全文搜索，查找拼写错误的Palo Alto networks。\n",
    "- 我们将获取该查询的节点及其评分。这里我们将其重命名为com，因为我们知道它代表一个公司。然后进行模式匹配，从公司位于某个公司地址。\n",
    "- 类似地，找到位于某个经理地址的经理。注意这两个模式没有任何连接。我们有一个WHERE子句说找到point.distance在公司地址位置和经理地址位置之间。我们将其限制在10K范围内，然后返回经理并将距离转换为公里。"
   ]
  },
  {
   "cell_type": "code",
   "execution_count": 16,
   "id": "9f82d4ea-c8fc-4508-969a-163480469f12",
   "metadata": {
    "height": 302
   },
   "outputs": [
    {
     "data": {
      "text/plain": [
       "[{'mgr': {'managerCik': '1802994',\n",
       "   'managerAddress': '901 CAMPISI WAY, SUITE 140, CAMPBELL, CA, 95008',\n",
       "   'location': POINT(-121.9342655 37.2909459),\n",
       "   'managerName': 'Mine & Arao Wealth Creation & Management, LLC.'},\n",
       "  'distanceKm': 6}]"
      ]
     },
     "execution_count": 16,
     "metadata": {},
     "output_type": "execute_result"
    }
   ],
   "source": [
    "# Which investment firms are near Palo Aalto Networks?\n",
    "kg.query(\"\"\"\n",
    "  CALL db.index.fulltext.queryNodes(\n",
    "         \"fullTextCompanyNames\", \n",
    "         \"Palo Aalto Networks\"\n",
    "         ) YIELD node, score\n",
    "  WITH node as com\n",
    "  MATCH (com)-[:LOCATED_AT]->(comAddress:Address),\n",
    "    (mgr:Manager)-[:LOCATED_AT]->(mgrAddress:Address)\n",
    "    WHERE point.distance(comAddress.location, \n",
    "        mgrAddress.location) < 10000\n",
    "  RETURN mgr, \n",
    "    toInteger(point.distance(comAddress.location, \n",
    "        mgrAddress.location) / 1000) as distanceKm\n",
    "    ORDER BY distanceKm ASC\n",
    "    LIMIT 10\n",
    "\"\"\")"
   ]
  },
  {
   "cell_type": "markdown",
   "id": "e05c6220",
   "metadata": {},
   "source": [
    "- 即使有拼写错误，我们找到了Palo Alto Networks，找到了管理公司，他们叫Mine and Arrow Wealth Creation and Management, LLC。"
   ]
  },
  {
   "cell_type": "markdown",
   "id": "89da08a9",
   "metadata": {},
   "source": [
    "- 我们在这节课中读了很多Cypher。这可能会让人一时难以接受。一个好的尝试是暂停视频，并对笔记本中的查询进行一些小的更改。\n",
    "- 尝试不同的距离、公司名称和城市，看看我们会得到什么。\n",
    "- 有很多在线资源可以帮助我们学习Cypher，您可以在 neo4j 网站了解有关 Cypher 的更多信息：https://neo4j.com/product/cypher-graph-query-language/。"
   ]
  },
  {
   "cell_type": "markdown",
   "id": "24b6e2de-90e4-4341-b68f-c4ccc9d9d8a2",
   "metadata": {},
   "source": [
    "# 三、用大模型编写 Cypher"
   ]
  },
  {
   "cell_type": "markdown",
   "id": "c4b1af2d",
   "metadata": {},
   "source": [
    "- 事实证明，OpenAI的GPT-3.5模型在编写Cypher方面表现相当不错。接下来让我们尝试一下。\n",
    "- 要让LLM编写 Cypher，我们可以使用一种称为少量示例学习的技术。通过少量示例学习，我们在提示中提供示例，告诉LLM如何完成特定任务。然后我们要求LLM执行该任务。\n",
    "- 例如，让我们看看一个用于教LLM关于知识图谱和编写 Cypher 的提示。\n",
    "- 它非常简单，任务是生成Cypher语句以查询图数据库。然后说明只使用模式中的提供的关系类型和属性，不要使用任何其他未提供的关系类型或属性。基本上，我们在请求LLM，请只按照我们的指示，不要偏离。\n",
    "- 接下来，我们提供实际的模式：在花括号中，知识图谱的模式将被传递到LLM的提示中。所有这些将被打包在一起作为创建提示的标准做法，包含大量指导信息给LLM。\n",
    "- 请不要包括解释或道歉。只编写Cypher。不要响应与编写Cypher语句无关的问题。不要创建我们没有要求我们做的其他任何内容。\n",
    "- 最后，我们提供一些示例，这里我们只提供一个为特定问题生成的Cypher示例。我们有一个哈希符号，然后是自然语言中的问题，我们在编写Cypher时见过这个。旧金山有哪些投资公司？然后这是应该编写的Cypher模式，这是位于某个地址的经理，带有一个WHERE子句，这里是一个字符串文字旧金山，而不是传递查询变量，然后只返回经理名称。\n",
    "- 最后，我们关闭提示，其中包含实际执行的任务。这里是我们的问题。"
   ]
  },
  {
   "cell_type": "code",
   "execution_count": 17,
   "id": "7bc2a60a-0da2-473c-ae3c-1684689da2fa",
   "metadata": {
    "height": 370
   },
   "outputs": [],
   "source": [
    "CYPHER_GENERATION_TEMPLATE = \"\"\"Task:Generate Cypher statement to \n",
    "query a graph database.\n",
    "Instructions:\n",
    "Use only the provided relationship types and properties in the \n",
    "schema. Do not use any other relationship types or properties that \n",
    "are not provided.\n",
    "Schema:\n",
    "{schema}\n",
    "Note: Do not include any explanations or apologies in your responses.\n",
    "Do not respond to any questions that might ask anything else than \n",
    "for you to construct a Cypher statement.\n",
    "Do not include any text except the generated Cypher statement.\n",
    "Examples: Here are a few examples of generated Cypher \n",
    "statements for particular questions:\n",
    "\n",
    "# What investment firms are in San Francisco?\n",
    "MATCH (mgr:Manager)-[:LOCATED_AT]->(mgrAddress:Address)\n",
    "    WHERE mgrAddress.city = 'San Francisco'\n",
    "RETURN mgr.managerName\n",
    "The question is:\n",
    "{question}\"\"\""
   ]
  },
  {
   "cell_type": "code",
   "execution_count": null,
   "id": "ac96bbef",
   "metadata": {},
   "outputs": [],
   "source": [
    "CYPHER_GENERATION_TEMPLATE_zh = \"\"\"任务：生成查询图数据库的 Cypher 语句。\n",
    "指令：仅使用 Schema 提供的关系类型和属性。请勿使用任何没有提供的其他关系类型或属性。\n",
    "Schema：{schema} \n",
    "注意：请勿在回复中包含任何解释或道歉。除了构建 Cypher 声明之外，请勿回答任何可能提出其他任何问题的问题。\n",
    "除生成的 Cypher 语句外，请勿包含任何文本。\n",
    "示例：以下是针对特定问题生成的 Cypher 语句的一些示例：\n",
    "\n",
    "# 旧金山有哪些投资公司？\n",
    "MATCH (mgr:Manager)-[:LOCATED_AT]->(mgrAddress:Address)\n",
    "    WHERE mgrAddress.city = 'San Francisco'\n",
    "RETURN mgr.managerName\n",
    "问题是：\n",
    "{question}\"\"\""
   ]
  },
  {
   "cell_type": "markdown",
   "id": "dad6b400",
   "metadata": {},
   "source": [
    "- 如果有人提出一个问题，比如，圣克拉拉有哪些投资公司？或者其他任何城市，LLM应该从这个示例中学习模式是什么样的，生成的Cypher应该是什么样的，并根据所问的问题，将旧金山替换为圣克拉拉。"
   ]
  },
  {
   "cell_type": "markdown",
   "id": "009ce188",
   "metadata": {},
   "source": [
    "为了围绕这一点创建一个工作流程，我们将使用LangChains集成，这非常方便。\n",
    "- 首先，我们将Cypher生成模板转换为一个Cypher生成提示，使用这个提示模板类。"
   ]
  },
  {
   "cell_type": "code",
   "execution_count": 18,
   "id": "acb00bd4-a983-4a27-a176-4fa71c60c359",
   "metadata": {
    "height": 81
   },
   "outputs": [],
   "source": [
    "CYPHER_GENERATION_PROMPT = PromptTemplate(\n",
    "    input_variables=[\"schema\", \"question\"], \n",
    "    template=CYPHER_GENERATION_TEMPLATE\n",
    ")"
   ]
  },
  {
   "cell_type": "markdown",
   "id": "b56ae533",
   "metadata": {},
   "source": [
    "- 接下来，我们将创建一种新的链。我们之前有问答链，但这是一个不同的链。这是一个GraphCypherQAChain。\n",
    "- 我们将使用ChatOpenAI作为LLM，图谱是我们用于直接查询 Neo4j 的知识图谱。我们希望它是详细的，告诉我们在执行过程中发生了什么。\n",
    "- Cypher提示使用的是我们上面创建的Cypher生成提示。"
   ]
  },
  {
   "cell_type": "code",
   "execution_count": 19,
   "id": "a8988b57-5cdd-4e33-8b95-9a2579273723",
   "metadata": {
    "height": 115
   },
   "outputs": [],
   "source": [
    "cypherChain = GraphCypherQAChain.from_llm(\n",
    "    ChatOpenAI(temperature=0),\n",
    "    graph=kg,\n",
    "    verbose=True,\n",
    "    cypher_prompt=CYPHER_GENERATION_PROMPT,\n",
    ")"
   ]
  },
  {
   "cell_type": "markdown",
   "id": "8041a83e",
   "metadata": {},
   "source": [
    "- 然后，我会添加一个小工具类，以保持整洁。这类似于我们之前所做的，只是使用TextWrap使事情整齐有序。"
   ]
  },
  {
   "cell_type": "code",
   "execution_count": 20,
   "id": "fca1d1b0-e192-43a9-9a00-4d81f388df7c",
   "metadata": {
    "height": 64
   },
   "outputs": [],
   "source": [
    "def prettyCypherChain(question: str) -> str:\n",
    "    response = cypherChain.run(question)\n",
    "    print(textwrap.fill(response, 60))"
   ]
  },
  {
   "cell_type": "markdown",
   "id": "e1cab65c",
   "metadata": {},
   "source": [
    "- 我们有一个关于旧金山有哪些投资公司的问题。"
   ]
  },
  {
   "cell_type": "code",
   "execution_count": 21,
   "id": "849556db-797f-4227-ab8d-d95f81c60004",
   "metadata": {
    "height": 30
   },
   "outputs": [
    {
     "name": "stdout",
     "output_type": "stream",
     "text": [
      "\n",
      "\n",
      "\u001b[1m> Entering new GraphCypherQAChain chain...\u001b[0m\n",
      "Generated Cypher:\n",
      "\u001b[32;1m\u001b[1;3mMATCH (mgr:Manager)-[:LOCATED_AT]->(mgrAddress:Address)\n",
      "    WHERE mgrAddress.city = 'San Francisco'\n",
      "RETURN mgr.managerName\u001b[0m\n",
      "Full Context:\n",
      "\u001b[32;1m\u001b[1;3m[{'mgr.managerName': 'PARNASSUS INVESTMENTS, LLC'}, {'mgr.managerName': 'SKBA CAPITAL MANAGEMENT LLC'}, {'mgr.managerName': 'ROSENBLUM SILVERMAN SUTTON S F INC /CA'}, {'mgr.managerName': 'CHARLES SCHWAB INVESTMENT MANAGEMENT INC'}, {'mgr.managerName': 'WELLS FARGO & COMPANY/MN'}, {'mgr.managerName': 'Dodge & Cox'}, {'mgr.managerName': 'Strait & Sound Wealth Management LLC'}, {'mgr.managerName': 'Sonoma Private Wealth LLC'}, {'mgr.managerName': 'Fund Management at Engine No. 1 LLC'}, {'mgr.managerName': 'SELDON CAPITAL LP'}]\u001b[0m\n",
      "\n",
      "\u001b[1m> Finished chain.\u001b[0m\n",
      "PARNASSUS INVESTMENTS, LLC, ROSENBLUM SILVERMAN SUTTON S F\n",
      "INC /CA, and Dodge & Cox are investment firms located in San\n",
      "Francisco.\n"
     ]
    }
   ],
   "source": [
    "prettyCypherChain(\"What investment firms are in San Francisco?\")"
   ]
  },
  {
   "cell_type": "markdown",
   "id": "2953d524",
   "metadata": {},
   "source": [
    "- 这太酷了。我们可以看到生成的Cypher。如果我们回到上面，我们会看到它与我们要求的非常相似。\n",
    "- 好的，尝试相同的查询，但换一个城市。"
   ]
  },
  {
   "cell_type": "code",
   "execution_count": 22,
   "id": "37118b33-2166-49f9-8683-e04f395f13f4",
   "metadata": {
    "height": 30
   },
   "outputs": [
    {
     "name": "stdout",
     "output_type": "stream",
     "text": [
      "\n",
      "\n",
      "\u001b[1m> Entering new GraphCypherQAChain chain...\u001b[0m\n",
      "Generated Cypher:\n",
      "\u001b[32;1m\u001b[1;3mMATCH (mgr:Manager)-[:LOCATED_AT]->(mgrAddress:Address)\n",
      "    WHERE mgrAddress.city = 'Menlo Park'\n",
      "RETURN mgr.managerName\u001b[0m\n",
      "Full Context:\n",
      "\u001b[32;1m\u001b[1;3m[{'mgr.managerName': 'Bordeaux Wealth Advisors LLC'}, {'mgr.managerName': 'Opes Wealth Management LLC'}, {'mgr.managerName': 'Solstein Capital, LLC'}, {'mgr.managerName': 'Stamos Capital Partners, L.P.'}, {'mgr.managerName': 'TIEMANN INVESTMENT ADVISORS, LLC'}, {'mgr.managerName': 'SCGE MANAGEMENT, L.P.'}, {'mgr.managerName': 'Nelson Capital Management, LLC'}, {'mgr.managerName': 'Jasper Ridge Partners, L.P.'}, {'mgr.managerName': 'CROSSLINK CAPITAL INC'}]\u001b[0m\n",
      "\n",
      "\u001b[1m> Finished chain.\u001b[0m\n",
      "The investment firms in Menlo Park include Jasper Ridge\n",
      "Partners, L.P. and Crosslink Capital Inc.\n"
     ]
    }
   ],
   "source": [
    "prettyCypherChain(\"What investment firms are in Menlo Park?\")"
   ]
  },
  {
   "cell_type": "markdown",
   "id": "398d1b7b",
   "metadata": {},
   "source": [
    "- 我们可以看到WHERE子句已更改为查找Menlo Park的字符串文字，并且得到了正确的答案。"
   ]
  },
  {
   "cell_type": "markdown",
   "id": "09778b84",
   "metadata": {},
   "source": [
    "- 让我们尝试一些我们还没有教它怎么做的事情。我们教它如何处理投资公司，那么公司呢？\n",
    "- 让我们找出在圣克拉拉的公司。"
   ]
  },
  {
   "cell_type": "code",
   "execution_count": 23,
   "id": "017af6f6-0025-477e-8d99-ec9fa5add56d",
   "metadata": {
    "height": 30
   },
   "outputs": [
    {
     "name": "stdout",
     "output_type": "stream",
     "text": [
      "\n",
      "\n",
      "\u001b[1m> Entering new GraphCypherQAChain chain...\u001b[0m\n",
      "Generated Cypher:\n",
      "\u001b[32;1m\u001b[1;3mMATCH (comp:Company)-[:LOCATED_AT]->(compAddress:Address)\n",
      "    WHERE compAddress.city = 'Santa Clara'\n",
      "RETURN comp.companyName\u001b[0m\n",
      "Full Context:\n",
      "\u001b[32;1m\u001b[1;3m[{'comp.companyName': 'PALO ALTO NETWORKS INC'}, {'comp.companyName': 'SEAGATE TECHNOLOGY'}, {'comp.companyName': 'ATLASSIAN CORP PLC'}]\u001b[0m\n",
      "\n",
      "\u001b[1m> Finished chain.\u001b[0m\n",
      "The companies in Santa Clara are PALO ALTO NETWORKS INC,\n",
      "SEAGATE TECHNOLOGY, and ATLASSIAN CORP PLC.\n"
     ]
    }
   ],
   "source": [
    "prettyCypherChain(\"What companies are in Santa Clara?\")"
   ]
  },
  {
   "cell_type": "markdown",
   "id": "e0a88e3e",
   "metadata": {},
   "source": [
    "- 我们没有专门教导 LLM 如何解决这个问题，但通过这个示例和了解图谱的模式，LLM能够生成一个Cypher查询，从一个位于地址的公司中找到一个模式匹配，这个地址城市是圣克拉拉，正如我们所要求的那样。\n",
    "- 然后我们得到了结果。"
   ]
  },
  {
   "cell_type": "markdown",
   "id": "2c5aaac5",
   "metadata": {},
   "source": [
    "- 这是关于公司而不是投资公司的一个变体。让我们尝试另一个变体。\n",
    "- 如果你还记得的话，我们不是找出位于特定城市的东西，而是想通过计算距离找出靠近某个城市的东西。LLM 能够想出如何编写吗？"
   ]
  },
  {
   "cell_type": "code",
   "execution_count": 24,
   "id": "53e20b99-8cb6-44ce-b801-a46a7ce0c751",
   "metadata": {
    "height": 30
   },
   "outputs": [
    {
     "name": "stdout",
     "output_type": "stream",
     "text": [
      "\n",
      "\n",
      "\u001b[1m> Entering new GraphCypherQAChain chain...\u001b[0m\n",
      "Generated Cypher:\n",
      "\u001b[32;1m\u001b[1;3mMATCH (mgr:Manager)-[:LOCATED_AT]->(mgrAddress:Address)\n",
      "WHERE mgrAddress.city = 'Santa Clara'\n",
      "RETURN mgr.managerName\u001b[0m\n",
      "Full Context:\n",
      "\u001b[32;1m\u001b[1;3m[]\u001b[0m\n",
      "\n",
      "\u001b[1m> Finished chain.\u001b[0m\n",
      "I don't know the answer.\n"
     ]
    }
   ],
   "source": [
    "prettyCypherChain(\"What investment firms are near Santa Clara?\")"
   ]
  },
  {
   "cell_type": "markdown",
   "id": "297407c5",
   "metadata": {},
   "source": [
    "- 我们教它的只是如何进行模式匹配，如何进行WHERE子句以及如何返回值。所以它需要更多的指导才能回答这样的问题。\n",
    "- 我们可以通过改变提示并给它更多的示例来做到这一点。这里，它不知道可以进行距离查询。让我们将其添加到提示中。"
   ]
  },
  {
   "cell_type": "markdown",
   "id": "4a957783-d88a-446b-a63f-ac8d7cc2e8a6",
   "metadata": {},
   "source": [
    "# 四、扩展提示以教会大模型新的 Cypher 模式"
   ]
  },
  {
   "cell_type": "markdown",
   "id": "1d96f99b",
   "metadata": {},
   "source": [
    "- 我们添加一个新示例。"
   ]
  },
  {
   "cell_type": "code",
   "execution_count": 25,
   "id": "3b4b75a5-814f-4734-95e6-20f6afa083b7",
   "metadata": {
    "height": 470
   },
   "outputs": [],
   "source": [
    "CYPHER_GENERATION_TEMPLATE = \"\"\"Task:Generate Cypher statement to query a graph database.\n",
    "Instructions:\n",
    "Use only the provided relationship types and properties in the schema.\n",
    "Do not use any other relationship types or properties that are not provided.\n",
    "Schema:\n",
    "{schema}\n",
    "Note: Do not include any explanations or apologies in your responses.\n",
    "Do not respond to any questions that might ask anything else than for you to construct a Cypher statement.\n",
    "Do not include any text except the generated Cypher statement.\n",
    "Examples: Here are a few examples of generated Cypher statements for particular questions:\n",
    "\n",
    "# What investment firms are in San Francisco?\n",
    "MATCH (mgr:Manager)-[:LOCATED_AT]->(mgrAddress:Address)\n",
    "    WHERE mgrAddress.city = 'San Francisco'\n",
    "RETURN mgr.managerName\n",
    "\n",
    "# What investment firms are near Santa Clara?\n",
    "  MATCH (address:Address)\n",
    "    WHERE address.city = \"Santa Clara\"\n",
    "  MATCH (mgr:Manager)-[:LOCATED_AT]->(managerAddress:Address)\n",
    "    WHERE point.distance(address.location, \n",
    "        managerAddress.location) < 10000\n",
    "  RETURN mgr.managerName, mgr.managerAddress\n",
    "\n",
    "The question is:\n",
    "{question}\"\"\""
   ]
  },
  {
   "cell_type": "code",
   "execution_count": null,
   "id": "687eed0b",
   "metadata": {},
   "outputs": [],
   "source": [
    "CYPHER_GENERATION_TEMPLATE_zh = \"\"\"任务：生成查询图数据库的 Cypher 语句。\n",
    "指令：仅使用 Schema 提供的关系类型和属性。请勿使用任何没有提供的其他关系类型或属性。\n",
    "Schema：{schema} \n",
    "注意：请勿在回复中包含任何解释或道歉。除了构建 Cypher 声明之外，请勿回答任何可能提出其他任何问题的问题。\n",
    "除生成的 Cypher 语句外，请勿包含任何文本。\n",
    "示例：以下是针对特定问题生成的 Cypher 语句的一些示例：\n",
    "\n",
    "# 旧金山有哪些投资公司？\n",
    "MATCH (mgr:Manager)-[:LOCATED_AT]->(mgrAddress:Address)\n",
    "    WHERE mgrAddress.city = 'San Francisco'\n",
    "RETURN mgr.managerName\n",
    "\n",
    "# 圣克拉拉附近有哪些投资公司？\n",
    "  MATCH (address:Address)\n",
    "    WHERE address.city = \"Santa Clara\"\n",
    "  MATCH (mgr:Manager)-[:LOCATED_AT]->(managerAddress:Address)\n",
    "    WHERE point.distance(address.location, \n",
    "        managerAddress.location) < 10000\n",
    "  RETURN mgr.managerName, mgr.managerAddress\n",
    "\n",
    "问题是：\n",
    "{question}\"\"\""
   ]
  },
  {
   "cell_type": "markdown",
   "id": "feca08c1",
   "metadata": {},
   "source": [
    "- 一旦我们改变了这个Cypher生成模板，我们还需要更新所有基于这个模板构建的内容。\n",
    "- 每当您对 Cypher 生成模板进行更改时，请重新运行此代码！"
   ]
  },
  {
   "cell_type": "code",
   "execution_count": 26,
   "id": "c989e525-bff0-4b02-b5a4-4d00f178d83f",
   "metadata": {
    "height": 200
   },
   "outputs": [],
   "source": [
    "CYPHER_GENERATION_PROMPT = PromptTemplate(\n",
    "    input_variables=[\"schema\", \"question\"], \n",
    "    template=CYPHER_GENERATION_TEMPLATE\n",
    ")\n",
    "\n",
    "cypherChain = GraphCypherQAChain.from_llm(\n",
    "    ChatOpenAI(temperature=0),\n",
    "    graph=kg,\n",
    "    verbose=True,\n",
    "    cypher_prompt=CYPHER_GENERATION_PROMPT,\n",
    ")"
   ]
  },
  {
   "cell_type": "markdown",
   "id": "cc6a3a98",
   "metadata": {},
   "source": [
    "- 更新后，我们会再次问这个问题，看看LLM生成的是什么。让我们滚动查看完整结果。"
   ]
  },
  {
   "cell_type": "code",
   "execution_count": 27,
   "id": "df0bc4de-ae68-459b-b8ef-a4d1e4684e6b",
   "metadata": {
    "height": 30
   },
   "outputs": [
    {
     "name": "stdout",
     "output_type": "stream",
     "text": [
      "\n",
      "\n",
      "\u001b[1m> Entering new GraphCypherQAChain chain...\u001b[0m\n",
      "Generated Cypher:\n",
      "\u001b[32;1m\u001b[1;3mMATCH (address:Address)\n",
      "    WHERE address.city = \"Santa Clara\"\n",
      "MATCH (mgr:Manager)-[:LOCATED_AT]->(managerAddress:Address)\n",
      "    WHERE point.distance(address.location, managerAddress.location) < 10000\n",
      "RETURN mgr.managerName, mgr.managerAddress\u001b[0m\n",
      "Full Context:\n",
      "\u001b[32;1m\u001b[1;3m[{'mgr.managerName': 'Mine & Arao Wealth Creation & Management, LLC.', 'mgr.managerAddress': '901 CAMPISI WAY, SUITE 140, CAMPBELL, CA, 95008'}]\u001b[0m\n",
      "\n",
      "\u001b[1m> Finished chain.\u001b[0m\n",
      "Mine & Arao Wealth Creation & Management, LLC. is an\n",
      "investment firm near Santa Clara, located at 901 CAMPISI\n",
      "WAY, SUITE 140, CAMPBELL, CA, 95008.\n"
     ]
    }
   ],
   "source": [
    "prettyCypherChain(\"What investment firms are near Santa Clara?\")"
   ]
  },
  {
   "cell_type": "markdown",
   "id": "348d6edc",
   "metadata": {},
   "source": [
    "- 让我们仔细看看是否正确。我们希望投资公司在圣克拉拉附近，所以匹配地址城市是圣克拉拉。很好。这是我们想要的地方。\n",
    "- 然后是模式匹配，找到位于某个地址的经理，现在距离计算是从地址位置开始（即圣克拉拉），以及经理的地址位置。\n",
    "- 经理需要在10,000米以内得到了正确的查询，并且看起来结果也正确。\n",
    "- 我觉得这真的很酷。GPT-3.5 看过足够的Cypher，即使只有两个示例，也能很好地生成它。"
   ]
  },
  {
   "cell_type": "markdown",
   "id": "3001e746-1920-43fe-a205-6bc00974d3b8",
   "metadata": {},
   "source": [
    "# 五、扩展查询以从 Form 10K 块中检索信息"
   ]
  },
  {
   "cell_type": "markdown",
   "id": "c030eae0",
   "metadata": {},
   "source": [
    "- 我们可以在这里提供一个更多的示例，从公司连接到我们开始的 SEC 文件。我们知道我们拥有的第一批数据来自项目一，项目一讲的是公司实际做什么。\n",
    "- 让我们问一个关于这个的问题。我们在研究Palo Alto Networks。例如，我们可以说，让我们教LLM回答这个问题，Palo Alto Networks做什么？然后我们可以问其他公司的这个问题。"
   ]
  },
  {
   "cell_type": "markdown",
   "id": "52c92ef8",
   "metadata": {},
   "source": [
    "- 我们将提供给LLM的Cypher示例将使用全文搜索找到公司的名称。这里拼写完全正确，Palo Alto Networks。\n",
    "- 然后我们将从那家公司进行匹配，我们已经将节点重命名为com，从提交了某个表格的公司开始，然后继续这个表格，通过一个部分到一个块。\n",
    "- 现在这一部分很重要，这一部分的关系是我们用来标识一个部分的开始，作为链表的头节点。所以我们希望这个部分的 F10KItem 称为 item 1。\n",
    "- 这将带我们到 item 1 部分块的第一个块，返回该块的文本，这将是我们提供给LLM以实际回答问题的内容。"
   ]
  },
  {
   "cell_type": "code",
   "execution_count": 28,
   "id": "7e1fd6ce-a947-4ca4-98e1-9eff85f54140",
   "metadata": {
    "height": 657
   },
   "outputs": [],
   "source": [
    "CYPHER_GENERATION_TEMPLATE = \"\"\"Task:Generate Cypher statement to query a graph database.\n",
    "Instructions:\n",
    "Use only the provided relationship types and properties in the schema.\n",
    "Do not use any other relationship types or properties that are not provided.\n",
    "Schema:\n",
    "{schema}\n",
    "Note: Do not include any explanations or apologies in your responses.\n",
    "Do not respond to any questions that might ask anything else than for you to construct a Cypher statement.\n",
    "Do not include any text except the generated Cypher statement.\n",
    "Examples: Here are a few examples of generated Cypher statements for particular questions:\n",
    "\n",
    "# What investment firms are in San Francisco?\n",
    "MATCH (mgr:Manager)-[:LOCATED_AT]->(mgrAddress:Address)\n",
    "    WHERE mgrAddress.city = 'San Francisco'\n",
    "RETURN mgr.managerName\n",
    "\n",
    "# What investment firms are near Santa Clara?\n",
    "  MATCH (address:Address)\n",
    "    WHERE address.city = \"Santa Clara\"\n",
    "  MATCH (mgr:Manager)-[:LOCATED_AT]->(managerAddress:Address)\n",
    "    WHERE point.distance(address.location, \n",
    "        managerAddress.location) < 10000\n",
    "  RETURN mgr.managerName, mgr.managerAddress\n",
    "\n",
    "# What does Palo Alto Networks do?\n",
    "  CALL db.index.fulltext.queryNodes(\n",
    "         \"fullTextCompanyNames\", \n",
    "         \"Palo Alto Networks\"\n",
    "         ) YIELD node, score\n",
    "  WITH node as com\n",
    "  MATCH (com)-[:FILED]->(f:Form),\n",
    "    (f)-[s:SECTION]->(c:Chunk)\n",
    "  WHERE s.f10kItem = \"item1\"\n",
    "RETURN c.text\n",
    "\n",
    "The question is:\n",
    "{question}\"\"\""
   ]
  },
  {
   "cell_type": "code",
   "execution_count": null,
   "id": "807a5749",
   "metadata": {},
   "outputs": [],
   "source": [
    "CYPHER_GENERATION_TEMPLATE_zh = \"\"\"任务：生成查询图数据库的 Cypher 语句。\n",
    "指令：仅使用 Schema 提供的关系类型和属性。请勿使用任何没有提供的其他关系类型或属性。\n",
    "Schema：{schema} \n",
    "注意：请勿在回复中包含任何解释或道歉。除了构建 Cypher 声明之外，请勿回答任何可能提出其他任何问题的问题。\n",
    "除生成的 Cypher 语句外，请勿包含任何文本。\n",
    "示例：以下是针对特定问题生成的 Cypher 语句的一些示例：\n",
    "\n",
    "# 旧金山有哪些投资公司？\n",
    "MATCH (mgr:Manager)-[:LOCATED_AT]->(mgrAddress:Address)\n",
    "    WHERE mgrAddress.city = 'San Francisco'\n",
    "RETURN mgr.managerName\n",
    "\n",
    "# 圣克拉拉附近有哪些投资公司？\n",
    "  MATCH (address:Address)\n",
    "    WHERE address.city = \"Santa Clara\"\n",
    "  MATCH (mgr:Manager)-[:LOCATED_AT]->(managerAddress:Address)\n",
    "    WHERE point.distance(address.location, \n",
    "        managerAddress.location) < 10000\n",
    "  RETURN mgr.managerName, mgr.managerAddress\n",
    "\n",
    "# 帕洛阿尔托网络是做什么的？\n",
    "  CALL db.index.fulltext.queryNodes(\n",
    "         \"fullTextCompanyNames\", \n",
    "         \"Palo Alto Networks\"\n",
    "         ) YIELD node, score\n",
    "  WITH node as com\n",
    "  MATCH (com)-[:FILED]->(f:Form),\n",
    "    (f)-[s:SECTION]->(c:Chunk)\n",
    "  WHERE s.f10kItem = \"item1\"\n",
    "RETURN c.text\n",
    "\n",
    "问题是：\n",
    "{question}\"\"\""
   ]
  },
  {
   "cell_type": "markdown",
   "id": "ee7881ea",
   "metadata": {},
   "source": [
    "- 保存它，重新创建链，然后我们会问一个关于Palo Alto Networks做什么的问题。"
   ]
  },
  {
   "cell_type": "code",
   "execution_count": 29,
   "id": "940ae18c-e29d-4970-b3e9-641e0bbcb9eb",
   "metadata": {
    "height": 217
   },
   "outputs": [],
   "source": [
    "CYPHER_GENERATION_PROMPT = PromptTemplate(\n",
    "    input_variables=[\"schema\", \"question\"], \n",
    "    template=CYPHER_GENERATION_TEMPLATE\n",
    ")\n",
    "\n",
    "cypherChain = GraphCypherQAChain.from_llm(\n",
    "    ChatOpenAI(temperature=0),\n",
    "    graph=kg,\n",
    "    verbose=True,\n",
    "    cypher_prompt=CYPHER_GENERATION_PROMPT,\n",
    ")\n"
   ]
  },
  {
   "cell_type": "markdown",
   "id": "10180a72",
   "metadata": {},
   "source": [
    "- 现在让我们问这个问题，看看我们是否得到一个看起来像上面的Cypher查询。"
   ]
  },
  {
   "cell_type": "code",
   "execution_count": 30,
   "id": "dcd29b47-f7d3-4b8a-8d6b-b3cdf31ad9fd",
   "metadata": {
    "height": 30
   },
   "outputs": [
    {
     "name": "stdout",
     "output_type": "stream",
     "text": [
      "\n",
      "\n",
      "\u001b[1m> Entering new GraphCypherQAChain chain...\u001b[0m\n",
      "Generated Cypher:\n",
      "\u001b[32;1m\u001b[1;3mCALL db.index.fulltext.queryNodes(\n",
      "     \"fullTextCompanyNames\", \n",
      "     \"Palo Alto Networks\"\n",
      "     ) YIELD node, score\n",
      "WITH node as com\n",
      "MATCH (com)-[:FILED]->(f:Form),\n",
      "  (f)-[s:SECTION]->(c:Chunk)\n",
      "WHERE s.f10kItem = \"item1\"\n",
      "RETURN c.text\u001b[0m\n",
      "Full Context:\n",
      "\u001b[32;1m\u001b[1;3m[{'c.text': '>Item 1. Business\\nGeneral\\nPalo Alto Networks, Inc. is a global cybersecurity provider with a vision of a world where each day is safer and more secure than the one before. We were incorporated in 2005 and are headquartered in Santa Clara, California.\\nWe empower enterprises, organizations, service providers, and government entities to protect themselves against today’s most sophisticated cyber threats. Our cybersecurity platforms and services help secure enterprise users, networks, clouds, and endpoints by delivering comprehensive cybersecurity backed by industry-leading artificial intelligence and automation. We are a leading provider of zero trust solutions, starting with next-generation zero trust network access to secure today’s remote hybrid workforces and extending to securing all users, applications, and infrastructure with zero trust principles. Our security solutions are designed to reduce customers’ total cost of ownership by improving operational efficiency and eliminating the need for siloed point products. Our company focuses on delivering value in four fundamental areas:\\nNetwork Security:\\n•\\nOur network security platform, designed to deliver complete zero trust solutions to our customers, includes our hardware and software ML-Powered Next-Generation Firewalls, as well as a cloud-delivered Secure Access Service Edge (“SASE”). Prisma\\n®\\n Access, our Security Services Edge (“SSE”) solution, when combined with Prisma SD-WAN, provides a comprehensive single-vendor SASE offering that is used to secure remote workforces and enable the cloud-delivered branch. We have been recognized as a leader in network firewalls, SSE, and SD-WAN. Our network security platform also includes our cloud-delivered security services, such as Advanced Threat Prevention, Advanced WildFire\\n®\\n, Advanced URL Filtering, DNS Security, IoT/OT Security, GlobalProtect\\n®'}]\u001b[0m\n",
      "\n",
      "\u001b[1m> Finished chain.\u001b[0m\n",
      "Palo Alto Networks, Inc. is a global cybersecurity provider\n",
      "that empowers enterprises, organizations, service providers,\n",
      "and government entities to protect themselves against\n",
      "sophisticated cyber threats. They offer cybersecurity\n",
      "platforms and services to secure users, networks, clouds,\n",
      "and endpoints with industry-leading artificial intelligence\n",
      "and automation. Their focus is on delivering value in\n",
      "network security, including zero trust solutions for remote\n",
      "workforces and cloud-delivered branches.\n"
     ]
    }
   ],
   "source": [
    "prettyCypherChain(\"What does Palo Alto Networks do?\")"
   ]
  },
  {
   "cell_type": "markdown",
   "id": "90301669",
   "metadata": {},
   "source": [
    "- 让我们看看。它正在进行全文搜索，进行模式匹配。\n",
    "- 正如我们所希望的那样，它生成了最终答案。"
   ]
  },
  {
   "cell_type": "markdown",
   "id": "c184124b",
   "metadata": {},
   "source": [
    "在继续之前，请暂停视频并尝试使用不同的提示进行实验，以及给出示例的 Cypher 查询，并提出不同的问题。看看LLM能否生成适合这些问题的Cypher，如果不能，就给它再提供几个示例，查看笔记本，找到相关示例，添加到原始模板，更新所有链，然后再次运行问题，看看得到什么结果。"
   ]
  },
  {
   "cell_type": "code",
   "execution_count": 31,
   "id": "be1d5c18-a480-471e-bd3c-81cc0b6e5f1f",
   "metadata": {
    "height": 64
   },
   "outputs": [
    {
     "name": "stdout",
     "output_type": "stream",
     "text": [
      "Node properties are the following: Chunk {textEmbedding:\n",
      "LIST, f10kItem: STRING, chunkSeqId: INTEGER, text: STRING,\n",
      "cik: STRING, cusip6: STRING, names: LIST, formId: STRING,\n",
      "source: STRING, chunkId: STRING},Form {cusip6: STRING,\n",
      "names: LIST, formId: STRING, source: STRING},Company\n",
      "{location: POINT, cusip: STRING, names: LIST,\n",
      "companyAddress: STRING, companyName: STRING, cusip6:\n",
      "STRING},Manager {location: POINT, managerName: STRING,\n",
      "managerCik: STRING, managerAddress: STRING},Address\n",
      "{location: POINT, country: STRING, city: STRING, state:\n",
      "STRING} Relationship properties are the following: SECTION\n",
      "{f10kItem: STRING},OWNS_STOCK_IN {shares: INTEGER,\n",
      "reportCalendarOrQuarter: STRING, value: FLOAT} The\n",
      "relationships are the following: (:Chunk)-[:NEXT]-\n",
      ">(:Chunk),(:Chunk)-[:PART_OF]->(:Form),(:Form)-[:SECTION]-\n",
      ">(:Chunk),(:Company)-[:FILED]->(:Form),(:Company)-\n",
      "[:LOCATED_AT]->(:Address),(:Manager)-[:LOCATED_AT]-\n",
      ">(:Address),(:Manager)-[:OWNS_STOCK_IN]->(:Company)\n"
     ]
    }
   ],
   "source": [
    "# 检查图谱schema\n",
    "kg.refresh_schema()\n",
    "print(textwrap.fill(kg.schema, 60))"
   ]
  },
  {
   "cell_type": "code",
   "execution_count": 32,
   "id": "745f3ec8-fabf-4f66-92d1-73632ab77bef",
   "metadata": {
    "height": 657
   },
   "outputs": [],
   "source": [
    "CYPHER_GENERATION_TEMPLATE = \"\"\"Task:Generate Cypher statement to query a graph database.\n",
    "Instructions:\n",
    "Use only the provided relationship types and properties in the schema.\n",
    "Do not use any other relationship types or properties that are not provided.\n",
    "Schema:\n",
    "{schema}\n",
    "Note: Do not include any explanations or apologies in your responses.\n",
    "Do not respond to any questions that might ask anything else than for you to construct a Cypher statement.\n",
    "Do not include any text except the generated Cypher statement.\n",
    "Examples: Here are a few examples of generated Cypher statements for particular questions:\n",
    "\n",
    "# What investment firms are in San Francisco?\n",
    "MATCH (mgr:Manager)-[:LOCATED_AT]->(mgrAddress:Address)\n",
    "    WHERE mgrAddress.city = 'San Francisco'\n",
    "RETURN mgr.managerName\n",
    "\n",
    "# What investment firms are near Santa Clara?\n",
    "  MATCH (address:Address)\n",
    "    WHERE address.city = \"Santa Clara\"\n",
    "  MATCH (mgr:Manager)-[:LOCATED_AT]->(managerAddress:Address)\n",
    "    WHERE point.distance(address.location, \n",
    "        managerAddress.location) < 10000\n",
    "  RETURN mgr.managerName, mgr.managerAddress\n",
    "\n",
    "# What does Palo Alto Networks do?\n",
    "  CALL db.index.fulltext.queryNodes(\n",
    "         \"fullTextCompanyNames\", \n",
    "         \"Palo Alto Networks\"\n",
    "         ) YIELD node, score\n",
    "  WITH node as com\n",
    "  MATCH (com)-[:FILED]->(f:Form),\n",
    "    (f)-[s:SECTION]->(c:Chunk)\n",
    "  WHERE s.f10kItem = \"item1\"\n",
    "RETURN c.text\n",
    "\n",
    "The question is:\n",
    "{question}\"\"\""
   ]
  },
  {
   "cell_type": "code",
   "execution_count": null,
   "id": "6523127a",
   "metadata": {},
   "outputs": [],
   "source": [
    "CYPHER_GENERATION_TEMPLATE_zh = \"\"\"任务：生成查询图数据库的 Cypher 语句。\n",
    "指令：仅使用 Schema 提供的关系类型和属性。请勿使用任何没有提供的其他关系类型或属性。\n",
    "Schema：{schema} \n",
    "注意：请勿在回复中包含任何解释或道歉。除了构建 Cypher 声明之外，请勿回答任何可能提出其他任何问题的问题。\n",
    "除生成的 Cypher 语句外，请勿包含任何文本。\n",
    "示例：以下是针对特定问题生成的 Cypher 语句的一些示例：\n",
    "\n",
    "# 旧金山有哪些投资公司？\n",
    "MATCH (mgr:Manager)-[:LOCATED_AT]->(mgrAddress:Address)\n",
    "    WHERE mgrAddress.city = 'San Francisco'\n",
    "RETURN mgr.managerName\n",
    "\n",
    "# 圣克拉拉附近有哪些投资公司？\n",
    "  MATCH (address:Address)\n",
    "    WHERE address.city = \"Santa Clara\"\n",
    "  MATCH (mgr:Manager)-[:LOCATED_AT]->(managerAddress:Address)\n",
    "    WHERE point.distance(address.location, \n",
    "        managerAddress.location) < 10000\n",
    "  RETURN mgr.managerName, mgr.managerAddress\n",
    "\n",
    "# 帕洛阿尔托网络是做什么的？\n",
    "  CALL db.index.fulltext.queryNodes(\n",
    "         \"fullTextCompanyNames\", \n",
    "         \"Palo Alto Networks\"\n",
    "         ) YIELD node, score\n",
    "  WITH node as com\n",
    "  MATCH (com)-[:FILED]->(f:Form),\n",
    "    (f)-[s:SECTION]->(c:Chunk)\n",
    "  WHERE s.f10kItem = \"item1\"\n",
    "RETURN c.text\n",
    "\n",
    "问题是：\n",
    "{question}\"\"\""
   ]
  },
  {
   "cell_type": "code",
   "execution_count": 33,
   "id": "f3cff2ef-cd92-47f5-a2d3-40f13288cdcf",
   "metadata": {
    "height": 217
   },
   "outputs": [],
   "source": [
    "# 更新提示并重置 QA 链\n",
    "CYPHER_GENERATION_PROMPT = PromptTemplate(\n",
    "    input_variables=[\"schema\", \"question\"], \n",
    "    template=CYPHER_GENERATION_TEMPLATE\n",
    ")\n",
    "\n",
    "cypherChain = GraphCypherQAChain.from_llm(\n",
    "    ChatOpenAI(temperature=0),\n",
    "    graph=kg,\n",
    "    verbose=True,\n",
    "    cypher_prompt=CYPHER_GENERATION_PROMPT,\n",
    ")"
   ]
  },
  {
   "cell_type": "code",
   "execution_count": 34,
   "id": "367efdd3-ce87-45a5-a1db-e9016f80760e",
   "metadata": {
    "height": 30
   },
   "outputs": [
    {
     "name": "stdout",
     "output_type": "stream",
     "text": [
      "\n",
      "\n",
      "\u001b[1m> Entering new GraphCypherQAChain chain...\u001b[0m\n",
      "Generated Cypher:\n",
      "\u001b[32;1m\u001b[1;3mMATCH (company:Company)-[:FILED]->(form:Form)\n",
      "WHERE company.companyName = 'Palo Alto Networks'\n",
      "RETURN form.formId, form.source\u001b[0m\n",
      "Full Context:\n",
      "\u001b[32;1m\u001b[1;3m[]\u001b[0m\n",
      "\n",
      "\u001b[1m> Finished chain.\u001b[0m\n",
      "I'm sorry, but I don't have the information to provide an\n",
      "answer to that question.\n"
     ]
    }
   ],
   "source": [
    "prettyCypherChain(\"<<REPLACE WITH YOUR QUESTION>>\")"
   ]
  }
 ],
 "metadata": {
  "kernelspec": {
   "display_name": "Python 3 (ipykernel)",
   "language": "python",
   "name": "python3"
  },
  "language_info": {
   "codemirror_mode": {
    "name": "ipython",
    "version": 3
   },
   "file_extension": ".py",
   "mimetype": "text/x-python",
   "name": "python",
   "nbconvert_exporter": "python",
   "pygments_lexer": "ipython3",
   "version": "3.12.3"
  }
 },
 "nbformat": 4,
 "nbformat_minor": 5
}
